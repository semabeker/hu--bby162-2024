{
  "nbformat": 4,
  "nbformat_minor": 0,
  "metadata": {
    "colab": {
      "provenance": [],
      "authorship_tag": "ABX9TyM3L4ewUIzwOJu2Z63ae9Dm",
      "include_colab_link": true
    },
    "kernelspec": {
      "name": "python3",
      "display_name": "Python 3"
    },
    "language_info": {
      "name": "python"
    }
  },
  "cells": [
    {
      "cell_type": "markdown",
      "metadata": {
        "id": "view-in-github",
        "colab_type": "text"
      },
      "source": [
        "<a href=\"https://colab.research.google.com/github/semabeker/hu--bby162-2024/blob/main/yazitura.ipynb\" target=\"_parent\"><img src=\"https://colab.research.google.com/assets/colab-badge.svg\" alt=\"Open In Colab\"/></a>"
      ]
    },
    {
      "cell_type": "code",
      "execution_count": null,
      "metadata": {
        "id": "mpGS9IUA-5Nz"
      },
      "outputs": [],
      "source": []
    },
    {
      "source": [
        "import random\n",
        "\n",
        "def yazı_tura():\n",
        "  \"\"\"\n",
        "  Simulates a coin toss and prints the result.\n",
        "  \"\"\"\n",
        "\n",
        "  # Generate a random number between 0 and 1.\n",
        "  random_number = random.random()\n",
        "\n",
        "  # If the number is less than 0.5, print \"Yazı\". Otherwise, print \"Tura\".\n",
        "  if random_number < 0.5:\n",
        "    print(\"Yazı\")\n",
        "  else:\n",
        "    print(\"Tura\")\n",
        "\n",
        "# Call the yazı_tura function to simulate a coin toss.\n",
        "yazı_tura()"
      ],
      "cell_type": "code",
      "metadata": {
        "colab": {
          "base_uri": "https://localhost:8080/"
        },
        "id": "Kq_W6i0T14HN",
        "outputId": "5d6a551a-d074-4cc4-c77f-db28da902f61"
      },
      "execution_count": null,
      "outputs": [
        {
          "output_type": "stream",
          "name": "stdout",
          "text": [
            "Tura\n"
          ]
        }
      ]
    }
  ]
}