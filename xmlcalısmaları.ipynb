{
  "cells": [
    {
      "cell_type": "markdown",
      "metadata": {
        "id": "view-in-github",
        "colab_type": "text"
      },
      "source": [
        "<a href=\"https://colab.research.google.com/github/semabeker/hu--bby162-2024/blob/main/xmlcal%C4%B1smalar%C4%B1.ipynb\" target=\"_parent\"><img src=\"https://colab.research.google.com/assets/colab-badge.svg\" alt=\"Open In Colab\"/></a>"
      ]
    },
    {
      "cell_type": "code",
      "execution_count": null,
      "metadata": {
        "colab": {
          "base_uri": "https://localhost:8080/"
        },
        "id": "Fe0FSs-AdF63",
        "outputId": "f3742f89-2148-4e19-eeb0-89c36de1cea7"
      },
      "outputs": [
        {
          "name": "stdout",
          "output_type": "stream",
          "text": [
            "Mounted at /content/drive\n"
          ]
        }
      ],
      "source": [
        "from google.colab import drive\n",
        "drive.mount('/content/drive')"
      ]
    },
    {
      "cell_type": "code",
      "execution_count": null,
      "metadata": {
        "colab": {
          "base_uri": "https://localhost:8080/"
        },
        "id": "tycfFPbOeUkJ",
        "outputId": "62ab377f-0275-482c-8af5-a78892c45e42"
      },
      "outputs": [
        {
          "name": "stdout",
          "output_type": "stream",
          "text": [
            "Favori filmler XML dosyası oluşturuldu!\n"
          ]
        }
      ],
      "source": [
        "import xml.etree.ElementTree as ET\n",
        "\n",
        "# Yeni bir XML yapısı oluşturma\n",
        "root = ET.Element('filmler')\n",
        "\n",
        "film1 = ET.SubElement(root, 'film')\n",
        "ad1 = ET.SubElement(film1, 'ad')\n",
        "ad1.text = 'Inception'\n",
        "yönetmen1 = ET.SubElement(film1, 'yönetmen')\n",
        "yönetmen1.text = 'Christopher Nolan'\n",
        "yil1 = ET.SubElement(film1, 'yil')\n",
        "yil1.text = '2010'\n",
        "\n",
        "film2 = ET.SubElement(root, 'film')\n",
        "ad2 = ET.SubElement(film2, 'ad')\n",
        "ad2.text = 'Interstellar'\n",
        "yönetmen2 = ET.SubElement(film2, 'yönetmen')\n",
        "yönetmen2.text = 'Christopher Nolan'\n",
        "yil2 = ET.SubElement(film2, 'yil')\n",
        "yil2.text = '2014'\n",
        "\n",
        "film3 = ET.SubElement(root, 'film')\n",
        "ad3 = ET.SubElement(film3, 'ad')\n",
        "ad3.text = 'The Matrix'\n",
        "yönetmen3 = ET.SubElement(film3, 'yönetmen')\n",
        "yönetmen3.text = 'The Wachowskis'\n",
        "yil3 = ET.SubElement(film3, 'yil')\n",
        "yil3.text = '1999'\n",
        "\n",
        "# XML dosyasını kaydetme\n",
        "tree = ET.ElementTree(root)\n",
        "tree.write('favori_filmler.xml', encoding='utf-8', xml_declaration=True)\n",
        "\n",
        "print(\"Favori filmler XML dosyası oluşturuldu!\")\n"
      ]
    },
    {
      "cell_type": "code",
      "execution_count": null,
      "metadata": {
        "id": "qAtr0xOXgCdq"
      },
      "outputs": [],
      "source": [
        "import xml.etree.ElementTree as ET\n",
        "\n",
        "# Yeni bir XML yapısı oluşturma\n",
        "root = ET.Element('filmler')\n",
        "\n",
        "def film_ekle():\n",
        "    film = ET.SubElement(root, 'film')\n",
        "    ad = ET.SubElement(film, 'ad')\n",
        "    ad.text = input(\"Filmin adı: \")\n",
        "    yönetmen = ET.SubElement(film, 'yönetmen')\n",
        "    yönetmen.text = input(\"Yönetmenin adı: \")\n",
        "    yil = ET.SubElement(film, 'yil')\n",
        "    yil.text = input(\"Yayın yılı: \")\n",
        "\n",
        "print(\"Favori filmlerinizi eklemeye başlayın (çıkmak için 'q' yazın).\")\n",
        "\n",
        "while True:\n",
        "    devam = input(\"Yeni bir film eklemek istiyor musunuz? (e/h): \").lower()\n",
        "    if devam == 'e':\n",
        "        film_ekle()\n",
        "    elif devam == 'h':\n",
        "        break\n",
        "    else:\n",
        "        print(\"Lütfen 'e' veya 'h' girin.\")\n",
        "\n",
        "# XML dosyasını kaydetme\n",
        "tree = ET.ElementTree(root)\n",
        "tree.write('favori_filmler_kullanıcı.xml', encoding='utf-8', xml_declaration=True)\n",
        "\n",
        "print(\"Favori filmleriniz 'favori_filmler_kullanıcı.xml' dosyasına kaydedildi!\")\n"
      ]
    },
    {
      "cell_type": "code",
      "execution_count": null,
      "metadata": {
        "colab": {
          "base_uri": "https://localhost:8080/"
        },
        "id": "WuOXEWZEg7Pu",
        "outputId": "155b84f9-3899-4855-ddcf-76ba00a38228"
      },
      "outputs": [
        {
          "metadata": {
            "tags": null
          },
          "name": "stdout",
          "output_type": "stream",
          "text": [
            "--- AEK Yönetim Sistemi ---\n",
            "1. Yeni AEK Verisi Ekle\n",
            "2. Kayıtlı Verileri Listele\n",
            "3. Veri Ara/Filtrele\n",
            "4. Çıkış\n"
          ]
        }
      ],
      "source": [
        "import xml.etree.ElementTree as ET\n",
        "\n",
        "# Yeni bir XML yapısı oluşturma\n",
        "root = ET.Element('AEKList')\n",
        "\n",
        "def aek_ekle():\n",
        "    # Kullanıcıdan verileri almak\n",
        "    aek = ET.SubElement(root, 'AEK')\n",
        "    title = ET.SubElement(aek, 'Title')\n",
        "    title.text = input(\"Başlık: \")\n",
        "\n",
        "    subject = ET.SubElement(aek, 'Subject')\n",
        "    subject.text = input(\"Anahtar Kelimeler (virgülle ayırın): \")\n",
        "\n",
        "    description = ET.SubElement(aek, 'Description')\n",
        "    description.text = input(\"Özet Bilgi: \")\n",
        "\n",
        "    creator = ET.SubElement(aek, 'Creator')\n",
        "    creator.text = input(\"Oluşturan Kişi/Kuruluş: \")\n",
        "\n",
        "    license = ET.SubElement(aek, 'License')\n",
        "    license.text = input(\"Açık Lisans: \")\n",
        "\n",
        "    language = ET.SubElement(aek, 'Language')\n",
        "    language.text = input(\"Dil: \")\n",
        "\n",
        "    identifier = ET.SubElement(aek, 'Identifier')\n",
        "    identifier.text = input(\"Kaynağın URL'si: \")\n",
        "\n",
        "    print(\"AEK bilgisi başarıyla eklendi!\\n\")\n",
        "\n",
        "def read_from_xml(filename=\"aek_data.xml\"):\n",
        "    if not os.path.exists(filename):\n",
        "        print(f\"{filename} dosyası bulunamadı.\")\n",
        "        return\n",
        "    tree = ET.parse(filename)\n",
        "    root = tree.getroot()\n",
        "    print(\"\\n--- Kaydedilen AEK Verileri ---\")\n",
        "    for aek in root.findall(\"AEK\"):\n",
        "        for child in aek:\n",
        "            print(f\"{child.tag}: {child.text}\")\n",
        "        print(\"-------------------------\")\n",
        "\n",
        "def search_in_xml(key, value, filename=\"aek_data.xml\"):\n",
        "    if not os.path.exists(filename):\n",
        "        print(f\"{filename} dosyası bulunamadı.\")\n",
        "        return\n",
        "    tree = ET.parse(filename)\n",
        "    root = tree.getroot()\n",
        "    found = False\n",
        "    for aek in root.findall(\"AEK\"):\n",
        "        if aek.find(key) is not None and aek.find(key).text == value:\n",
        "            print(\"\\n--- Bulunan Kayıt ---\")\n",
        "            for child in aek:\n",
        "                print(f\"{child.tag}: {child.text}\")\n",
        "            found = True\n",
        "    if not found:\n",
        "        print(\"Kriterlere uygun kayıt bulunamadı.\")\n",
        "\n",
        "# XML dosyasını kaydetme\n",
        "def save_to_xml(filename=\"aek_data.xml\"):\n",
        "    tree = ET.ElementTree(root)\n",
        "    tree.write(filename, encoding='utf-8', xml_declaration=True)\n",
        "    print(f\"Veri {filename} dosyasına kaydedildi.\\n\")\n",
        "\n",
        "# Ana menü\n",
        "def main():\n",
        "    while True:\n",
        "        print(\"--- AEK Yönetim Sistemi ---\")\n",
        "        print(\"1. Yeni AEK Verisi Ekle\")\n",
        "        print(\"2. Kayıtlı Verileri Listele\")\n",
        "        print(\"3. Veri Ara/Filtrele\")\n",
        "        print(\"4. Çıkış\")\n",
        "        choice = input(\"Seçiminizi yapın: \")\n",
        "\n",
        "        if choice == \"1\":\n",
        "            aek_ekle()\n",
        "            save_to_xml()  # Her yeni eklemede XML dosyasına kaydediliyor.\n",
        "        elif choice == \"2\":\n",
        "            read_from_xml()  # XML dosyasındaki verileri listele\n",
        "        elif choice == \"3\":\n",
        "            key = input(\"Aramak istediğiniz alan (Title, Language, Creator, vs.): \")\n",
        "            value = input(f\"{key} için değer: \")\n",
        "            search_in_xml(key, value)  # Arama işlemi\n",
        "        elif choice == \"4\":\n",
        "            print(\"Çıkış yapılıyor...\")\n",
        "            break\n",
        "        else:\n",
        "            print(\"Geçersiz seçim, lütfen tekrar deneyin.\")\n",
        "\n",
        "if __name__ == \"__main__\":\n",
        "    main()\n"
      ]
    },
    {
      "cell_type": "code",
      "source": [
        "title = input(\"Başlık: \")\n",
        "subject = input(\"Anahtar Kelimeler (virgülle ayırın): \")\n",
        "description = input(\"Özet Bilgi: \")\n",
        "creator = input(\"Oluşturan Kişi/Kuruluş: \")\n",
        "license = input(\"Açık Lisans: \")\n",
        "language = input(\"Dil: \")\n",
        "identifier = input(\"Kaynağın URL'si: \")\n"
      ],
      "metadata": {
        "id": "3bPBTmxtr7q2"
      },
      "execution_count": null,
      "outputs": []
    }
  ],
  "metadata": {
    "colab": {
      "provenance": [],
      "mount_file_id": "1naClWiDMzj_KeK-0S6FZwTqFMvVGqZR_",
      "authorship_tag": "ABX9TyM0vxKqiLTHP4p7Uit7BrMM",
      "include_colab_link": true
    },
    "kernelspec": {
      "display_name": "Python 3",
      "name": "python3"
    },
    "language_info": {
      "name": "python"
    }
  },
  "nbformat": 4,
  "nbformat_minor": 0
}