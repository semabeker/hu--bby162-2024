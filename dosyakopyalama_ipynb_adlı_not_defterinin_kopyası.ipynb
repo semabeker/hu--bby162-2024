{
  "nbformat": 4,
  "nbformat_minor": 0,
  "metadata": {
    "colab": {
      "provenance": [],
      "mount_file_id": "1ohSAYWQL9SOeM2EfjE8Ecg5YpMH7_gyC",
      "authorship_tag": "ABX9TyOBs206ZHxOn+5lpWBfoWMb",
      "include_colab_link": true
    },
    "kernelspec": {
      "name": "python3",
      "display_name": "Python 3"
    },
    "language_info": {
      "name": "python"
    }
  },
  "cells": [
    {
      "cell_type": "markdown",
      "metadata": {
        "id": "view-in-github",
        "colab_type": "text"
      },
      "source": [
        "<a href=\"https://colab.research.google.com/github/semabeker/hu--bby162-2024/blob/main/dosyakopyalama_ipynb_adl%C4%B1_not_defterinin_kopyas%C4%B1.ipynb\" target=\"_parent\"><img src=\"https://colab.research.google.com/assets/colab-badge.svg\" alt=\"Open In Colab\"/></a>"
      ]
    },
    {
      "cell_type": "code",
      "source": [
        "dosya = \"/content/drive/MyDrive/Colab Notebooks/Python_101.ipynb adlı not defterinin kopyası\"\n",
        "\n",
        "f = open(dosya, 'w')\n",
        "f.write(\"merhaba\")\n",
        "f.close()\n",
        "\n",
        "adSoyad = input(\"Adınızı soyadınızı giriniz: \")\n",
        "ePosta = input(\"E-posta adresinizi giriniz: \")\n",
        "\n",
        "dosyaYaz = open(dosya, \"a\")\n",
        "dosyaYaz.write(adSoyad+\" - \"+ePosta+\"\\n\")\n",
        "dosyaYaz.close()\n"
      ],
      "metadata": {
        "colab": {
          "base_uri": "https://localhost:8080/"
        },
        "id": "zmdLthRxPwuQ",
        "outputId": "cd45927b-0992-49af-c9b1-faee68d08d8f"
      },
      "execution_count": 10,
      "outputs": [
        {
          "name": "stdout",
          "output_type": "stream",
          "text": [
            "Adınızı soyadınızı giriniz: sema\n",
            "E-posta adresinizi giriniz: beker\n"
          ]
        }
      ]
    },
    {
      "cell_type": "code",
      "source": [],
      "metadata": {
        "id": "uVUKn_PyT9DU"
      },
      "execution_count": null,
      "outputs": []
    },
    {
      "cell_type": "code",
      "source": [
        "dosya = \"/content/drive/MyDrive/Colab Notebooks/Python_101.ipynb adlı not defterinin kopyası\"\n",
        "\n",
        "adSoyad = input(\"Adınızı soyadınızı giriniz: \")\n",
        "ePosta = input(\"E-posta adresinizi giriniz: \")\n",
        "\n",
        "dosyaYaz = open(dosya, \"a\")\n",
        "dosyaYaz.write(adSoyad+\" - \"+ePosta+\"\\n\")\n",
        "dosyaYaz.close()"
      ],
      "metadata": {
        "colab": {
          "base_uri": "https://localhost:8080/",
          "height": 391
        },
        "collapsed": true,
        "id": "-7pFj4slTQWY",
        "outputId": "5229cae5-bc3b-42cc-e3b8-a75327e23a4f"
      },
      "execution_count": 11,
      "outputs": [
        {
          "output_type": "error",
          "ename": "KeyboardInterrupt",
          "evalue": "Interrupted by user",
          "traceback": [
            "\u001b[0;31m---------------------------------------------------------------------------\u001b[0m",
            "\u001b[0;31mKeyboardInterrupt\u001b[0m                         Traceback (most recent call last)",
            "\u001b[0;32m<ipython-input-11-b8481fee1810>\u001b[0m in \u001b[0;36m<cell line: 3>\u001b[0;34m()\u001b[0m\n\u001b[1;32m      1\u001b[0m \u001b[0mdosya\u001b[0m \u001b[0;34m=\u001b[0m \u001b[0;34m\"/content/drive/MyDrive/Colab Notebooks/Python_101.ipynb adlı not defterinin kopyası\"\u001b[0m\u001b[0;34m\u001b[0m\u001b[0;34m\u001b[0m\u001b[0m\n\u001b[1;32m      2\u001b[0m \u001b[0;34m\u001b[0m\u001b[0m\n\u001b[0;32m----> 3\u001b[0;31m \u001b[0madSoyad\u001b[0m \u001b[0;34m=\u001b[0m \u001b[0minput\u001b[0m\u001b[0;34m(\u001b[0m\u001b[0;34m\"Adınızı soyadınızı giriniz: \"\u001b[0m\u001b[0;34m)\u001b[0m\u001b[0;34m\u001b[0m\u001b[0;34m\u001b[0m\u001b[0m\n\u001b[0m\u001b[1;32m      4\u001b[0m \u001b[0mePosta\u001b[0m \u001b[0;34m=\u001b[0m \u001b[0minput\u001b[0m\u001b[0;34m(\u001b[0m\u001b[0;34m\"E-posta adresinizi giriniz: \"\u001b[0m\u001b[0;34m)\u001b[0m\u001b[0;34m\u001b[0m\u001b[0;34m\u001b[0m\u001b[0m\n\u001b[1;32m      5\u001b[0m \u001b[0;34m\u001b[0m\u001b[0m\n",
            "\u001b[0;32m/usr/local/lib/python3.10/dist-packages/ipykernel/kernelbase.py\u001b[0m in \u001b[0;36mraw_input\u001b[0;34m(self, prompt)\u001b[0m\n\u001b[1;32m    849\u001b[0m                 \u001b[0;34m\"raw_input was called, but this frontend does not support input requests.\"\u001b[0m\u001b[0;34m\u001b[0m\u001b[0;34m\u001b[0m\u001b[0m\n\u001b[1;32m    850\u001b[0m             )\n\u001b[0;32m--> 851\u001b[0;31m         return self._input_request(str(prompt),\n\u001b[0m\u001b[1;32m    852\u001b[0m             \u001b[0mself\u001b[0m\u001b[0;34m.\u001b[0m\u001b[0m_parent_ident\u001b[0m\u001b[0;34m,\u001b[0m\u001b[0;34m\u001b[0m\u001b[0;34m\u001b[0m\u001b[0m\n\u001b[1;32m    853\u001b[0m             \u001b[0mself\u001b[0m\u001b[0;34m.\u001b[0m\u001b[0m_parent_header\u001b[0m\u001b[0;34m,\u001b[0m\u001b[0;34m\u001b[0m\u001b[0;34m\u001b[0m\u001b[0m\n",
            "\u001b[0;32m/usr/local/lib/python3.10/dist-packages/ipykernel/kernelbase.py\u001b[0m in \u001b[0;36m_input_request\u001b[0;34m(self, prompt, ident, parent, password)\u001b[0m\n\u001b[1;32m    893\u001b[0m             \u001b[0;32mexcept\u001b[0m \u001b[0mKeyboardInterrupt\u001b[0m\u001b[0;34m:\u001b[0m\u001b[0;34m\u001b[0m\u001b[0;34m\u001b[0m\u001b[0m\n\u001b[1;32m    894\u001b[0m                 \u001b[0;31m# re-raise KeyboardInterrupt, to truncate traceback\u001b[0m\u001b[0;34m\u001b[0m\u001b[0;34m\u001b[0m\u001b[0m\n\u001b[0;32m--> 895\u001b[0;31m                 \u001b[0;32mraise\u001b[0m \u001b[0mKeyboardInterrupt\u001b[0m\u001b[0;34m(\u001b[0m\u001b[0;34m\"Interrupted by user\"\u001b[0m\u001b[0;34m)\u001b[0m \u001b[0;32mfrom\u001b[0m \u001b[0;32mNone\u001b[0m\u001b[0;34m\u001b[0m\u001b[0;34m\u001b[0m\u001b[0m\n\u001b[0m\u001b[1;32m    896\u001b[0m             \u001b[0;32mexcept\u001b[0m \u001b[0mException\u001b[0m \u001b[0;32mas\u001b[0m \u001b[0me\u001b[0m\u001b[0;34m:\u001b[0m\u001b[0;34m\u001b[0m\u001b[0;34m\u001b[0m\u001b[0m\n\u001b[1;32m    897\u001b[0m                 \u001b[0mself\u001b[0m\u001b[0;34m.\u001b[0m\u001b[0mlog\u001b[0m\u001b[0;34m.\u001b[0m\u001b[0mwarning\u001b[0m\u001b[0;34m(\u001b[0m\u001b[0;34m\"Invalid Message:\"\u001b[0m\u001b[0;34m,\u001b[0m \u001b[0mexc_info\u001b[0m\u001b[0;34m=\u001b[0m\u001b[0;32mTrue\u001b[0m\u001b[0;34m)\u001b[0m\u001b[0;34m\u001b[0m\u001b[0;34m\u001b[0m\u001b[0m\n",
            "\u001b[0;31mKeyboardInterrupt\u001b[0m: Interrupted by user"
          ]
        }
      ]
    },
    {
      "cell_type": "code",
      "source": [
        "from random import choice\n",
        "\n",
        "def menuGoster(i=7):\n",
        "  menuGunleri = [\"Pazartesi\", \"Salı\", \"Çarşamba\", \"Perşembe\", \"Cuma\", \"Cumartesi\", \"Pazar\"]\n",
        "  menuGunleri = menuGunleri[:i]\n",
        "  corbalar = [\"c1\",\"c2\",\"c3\",\"c4\",\"c5\",\"c6\",\"c7\",\"c8\",\"c9\",\"c10\"]\n",
        "  anaYemekler = [\"a1\",\"a2\",\"a3\",\"a4\",\"a5\",\"a6\",\"a7\",\"a8\",\"a9\",\"a10\"]\n",
        "  garniturler = [\"g1\",\"g2\",\"g3\",\"g4\",\"g5\",\"g6\",\"g7\",\"g8\",\"g9\",\"g10\"]\n",
        "  tatlilar = [\"t1\",\"t2\",\"t3\",\"t4\",\"t5\",\"t6\",\"t7\",\"t8\",\"t9\",\"t10\"]\n",
        "  for gun in menuGunleri:\n",
        "    print(\"{}\\n---------- \\nÇorba: {}\\nAna Yemek: {}\\nGarnitür: {}\\nTatli: {}\\n\".format(gun, choice(corbalar), choice(anaYemekler), choice(garniturler), choice(tatlilar)))\n",
        "\n",
        "menuGoster(5)"
      ],
      "metadata": {
        "colab": {
          "base_uri": "https://localhost:8080/"
        },
        "id": "JoSCAjIGUAHP",
        "outputId": "ab58ca2d-2854-466b-8934-2e0ffe29484f"
      },
      "execution_count": 12,
      "outputs": [
        {
          "output_type": "stream",
          "name": "stdout",
          "text": [
            "Pazartesi\n",
            "---------- \n",
            "Çorba: c9\n",
            "Ana Yemek: a4\n",
            "Garnitür: g3\n",
            "Tatli: t5\n",
            "\n",
            "Salı\n",
            "---------- \n",
            "Çorba: c8\n",
            "Ana Yemek: a3\n",
            "Garnitür: g2\n",
            "Tatli: t2\n",
            "\n",
            "Çarşamba\n",
            "---------- \n",
            "Çorba: c2\n",
            "Ana Yemek: a9\n",
            "Garnitür: g2\n",
            "Tatli: t9\n",
            "\n",
            "Perşembe\n",
            "---------- \n",
            "Çorba: c2\n",
            "Ana Yemek: a3\n",
            "Garnitür: g10\n",
            "Tatli: t7\n",
            "\n",
            "Cuma\n",
            "---------- \n",
            "Çorba: c4\n",
            "Ana Yemek: a10\n",
            "Garnitür: g8\n",
            "Tatli: t1\n",
            "\n"
          ]
        }
      ]
    }
  ]
}