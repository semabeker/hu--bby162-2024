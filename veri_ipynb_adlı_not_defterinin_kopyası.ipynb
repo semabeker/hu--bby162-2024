{
  "nbformat": 4,
  "nbformat_minor": 0,
  "metadata": {
    "colab": {
      "provenance": [],
      "mount_file_id": "1UXGXLVKXwWuctyPPcyYPmAe0HBzmBQzV",
      "authorship_tag": "ABX9TyPsj2iAGFfWnk3ORDM4YzZV",
      "include_colab_link": true
    },
    "kernelspec": {
      "name": "python3",
      "display_name": "Python 3"
    },
    "language_info": {
      "name": "python"
    }
  },
  "cells": [
    {
      "cell_type": "markdown",
      "metadata": {
        "id": "view-in-github",
        "colab_type": "text"
      },
      "source": [
        "<a href=\"https://colab.research.google.com/github/semabeker/hu--bby162-2024/blob/main/veri_ipynb_adl%C4%B1_not_defterinin_kopyas%C4%B1.ipynb\" target=\"_parent\"><img src=\"https://colab.research.google.com/assets/colab-badge.svg\" alt=\"Open In Colab\"/></a>"
      ]
    },
    {
      "cell_type": "code",
      "source": [
        "dosya = \"/content/drive/MyDrive/Colab Notebooks/veri.ipynb adlı not defterinin kopyası\"\n",
        "\n",
        "f = open(dosya, 'w')\n",
        "f.write(\"merhaba ben sema\")\n",
        "f.close()"
      ],
      "metadata": {
        "id": "X2n-ZUOdqweD"
      },
      "execution_count": null,
      "outputs": []
    }
  ]
}