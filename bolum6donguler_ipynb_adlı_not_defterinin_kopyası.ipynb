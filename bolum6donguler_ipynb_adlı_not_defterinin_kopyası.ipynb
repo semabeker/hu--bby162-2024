{
  "cells": [
    {
      "cell_type": "markdown",
      "metadata": {
        "id": "view-in-github",
        "colab_type": "text"
      },
      "source": [
        "<a href=\"https://colab.research.google.com/github/semabeker/hu--bby162-2024/blob/main/bolum6donguler_ipynb_adl%C4%B1_not_defterinin_kopyas%C4%B1.ipynb\" target=\"_parent\"><img src=\"https://colab.research.google.com/assets/colab-badge.svg\" alt=\"Open In Colab\"/></a>"
      ]
    },
    {
      "cell_type": "code",
      "execution_count": null,
      "metadata": {
        "colab": {
          "base_uri": "https://localhost:8080/"
        },
        "id": "6H1fkJLOv-C_",
        "outputId": "df8af74a-b849-4bab-d008-6dca63966ea4"
      },
      "outputs": [
        {
          "name": "stdout",
          "output_type": "stream",
          "text": [
            "kedi\n",
            "köpek\n",
            "tavşan\n",
            "kurt\n",
            "yunus\n"
          ]
        }
      ],
      "source": [
        "listeler = [\"kedi\", \"köpek\", \"tavşan\", \"kurt\", \"yunus\"]\n",
        "\n",
        "for liste in listeler:\n",
        "  print(liste)"
      ]
    },
    {
      "cell_type": "code",
      "execution_count": null,
      "metadata": {
        "colab": {
          "base_uri": "https://localhost:8080/"
        },
        "id": "Zr_IGbXRxFPh",
        "outputId": "045f8dba-d096-43c0-f9e9-cb643ea4c100"
      },
      "outputs": [
        {
          "name": "stdout",
          "output_type": "stream",
          "text": [
            "Y\n",
            "a\n",
            "l\n",
            "n\n",
            "ı\n",
            "z\n",
            "c\n",
            "a\n",
            " \n",
            "k\n",
            "a\n",
            "r\n",
            "a\n",
            "n\n",
            "l\n",
            "ı\n",
            "k\n",
            "t\n",
            "a\n",
            " \n",
            "y\n",
            "ı\n",
            "l\n",
            "d\n",
            "ı\n",
            "z\n",
            "l\n",
            "a\n",
            "r\n",
            " \n",
            "p\n",
            "a\n",
            "r\n",
            "l\n",
            "a\n",
            "r\n",
            ".\n"
          ]
        }
      ],
      "source": [
        "degisken = \"Yalnızca karanlıkta yıldızlar parlar.\"\n",
        "\n",
        "for harf in degisken:\n",
        "    print(harf)"
      ]
    },
    {
      "cell_type": "code",
      "execution_count": null,
      "metadata": {
        "colab": {
          "base_uri": "https://localhost:8080/",
          "height": 106
        },
        "id": "fWQnFQHWx94i",
        "outputId": "dd2d6f40-3c11-4aa7-df5c-ddc3ac269b73"
      },
      "outputs": [
        {
          "ename": "IndentationError",
          "evalue": "unexpected indent (<ipython-input-11-a41cfe454643>, line 3)",
          "output_type": "error",
          "traceback": [
            "\u001b[0;36m  File \u001b[0;32m\"<ipython-input-11-a41cfe454643>\"\u001b[0;36m, line \u001b[0;32m3\u001b[0m\n\u001b[0;31m    print(\"Tahmin oyununa hoşgeldiniz!\")\u001b[0m\n\u001b[0m    ^\u001b[0m\n\u001b[0;31mIndentationError\u001b[0m\u001b[0;31m:\u001b[0m unexpected indent\n"
          ]
        }
      ],
      "source": [
        "kelime = \"bilgi\"\n",
        "tahminHakkı = 3\n",
        " print(\"Tahmin oyununa hoşgeldiniz!\")\n",
        " print(\"Hedef kelimeyi tahmin etmek için {} hakkınız var.\".format(tahmin_hakki))\n",
        " while tahminHakkı > 0:\n",
        "    tahmin = input(\"Bir harf giriniz: \")\n",
        "    if tahmin in kelime:\n",
        "        print(\"Doğru tahmin!\")\n",
        "        else:\n",
        "          print(\"Yanlış tahmin!\")\n",
        "          tahminHakkı -=1\n",
        "          print(\"Kalan tahmin hakkınız:\", tahminHakkı)\n",
        "          if tahminHakkı == 0:\n",
        "            print(\"Tahmin hakkınız bitti. Kelime:\", kelime)"
      ]
    },
    {
      "cell_type": "code",
      "execution_count": null,
      "metadata": {
        "id": "M2PYJ_703ARy",
        "colab": {
          "base_uri": "https://localhost:8080/"
        },
        "outputId": "58eaa44b-7e7e-42c4-c0ff-16adedc90c08"
      },
      "outputs": [
        {
          "output_type": "stream",
          "name": "stdout",
          "text": [
            "Tahmin oyununa hoşgeldiniz!\n",
            "Hedef kelimeyi tahmin etmek için 3 hakkınız var.\n",
            "Hedef kelimenin uzunluğu: 5\n",
            "Bir harf giriniz: armut\n",
            "Yanlış tahmin!\n",
            "Kalan tahmin hakkınız: 2\n",
            "Bir harf giriniz: köpek\n",
            "Yanlış tahmin!\n",
            "Kalan tahmin hakkınız: 1\n",
            "Bir harf giriniz: d\n",
            "Yanlış tahmin!\n",
            "Kalan tahmin hakkınız: 0\n",
            "Tahmin hakkınız bitti. Kelime: bilgi\n"
          ]
        }
      ],
      "source": [
        "kelime = \"bilgi\"\n",
        "tahminHakki = 3\n",
        "\n",
        "print(\"Tahmin oyununa hoşgeldiniz!\")\n",
        "print(\"Hedef kelimeyi tahmin etmek için {} hakkınız var.\".format(tahminHakki))\n",
        "print(\"Hedef kelimenin uzunluğu:\", len(kelime))\n",
        "\n",
        "while tahminHakki > 0:\n",
        "    tahmin = input(\"Bir harf giriniz: \")\n",
        "\n",
        "    if tahmin in kelime:\n",
        "        print(\"Doğru tahmin!\")\n",
        "    else:\n",
        "        print(\"Yanlış tahmin!\")\n",
        "        tahminHakki -= 1\n",
        "        print(\"Kalan tahmin hakkınız:\", tahminHakki)\n",
        "\n",
        "        if tahminHakki == 0:\n",
        "            print(\"Tahmin hakkınız bitti. Kelime:\", kelime)"
      ]
    }
  ],
  "metadata": {
    "colab": {
      "provenance": [],
      "authorship_tag": "ABX9TyN9+188bFdiRxC8aRbmImDq",
      "include_colab_link": true
    },
    "kernelspec": {
      "display_name": "Python 3",
      "name": "python3"
    },
    "language_info": {
      "name": "python"
    }
  },
  "nbformat": 4,
  "nbformat_minor": 0
}