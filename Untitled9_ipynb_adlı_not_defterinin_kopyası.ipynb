{
  "nbformat": 4,
  "nbformat_minor": 0,
  "metadata": {
    "colab": {
      "provenance": [],
      "authorship_tag": "ABX9TyPdHMWH8rJbFSLsRY6iy4K4",
      "include_colab_link": true
    },
    "kernelspec": {
      "name": "python3",
      "display_name": "Python 3"
    },
    "language_info": {
      "name": "python"
    }
  },
  "cells": [
    {
      "cell_type": "markdown",
      "metadata": {
        "id": "view-in-github",
        "colab_type": "text"
      },
      "source": [
        "<a href=\"https://colab.research.google.com/github/semabeker/hu--bby162-2024/blob/main/Untitled9_ipynb_adl%C4%B1_not_defterinin_kopyas%C4%B1.ipynb\" target=\"_parent\"><img src=\"https://colab.research.google.com/assets/colab-badge.svg\" alt=\"Open In Colab\"/></a>"
      ]
    },
    {
      "cell_type": "code",
      "execution_count": null,
      "metadata": {
        "id": "k6rTaj35-NMz"
      },
      "outputs": [],
      "source": [
        "acikSozluk = {\n",
        "    \"Açık Bilim\" : \"Bilimsel bilgi kamu malıdır. Bilimsel yayınlara ve verilere açık erişim bir haktır.\" ,\n",
        "    \"Açık Erişim\" : \"Kamu kaynakları ile yapılan araştırmalar sonucunda üretilen yayınlara ücretsiz erişim\" ,\n",
        "    \"Açık Veri\" : \"Kamu kaynakları ile yapılan araştırma sonucunda üretilen verilere ücretsiz ve yeniden kullanılabilir biçimde erişim\"\n",
        "    }\n",
        "anahtar = input(\"Anahtar Kelime: \")\n",
        "print(anahtar in acikSozluk.keys())\n"
      ]
    },
    {
      "cell_type": "code",
      "source": [
        "print(\"Meyveler kırmızı (d/y)\")\n",
        "sorular = [\"Kavun\", \"Muz\", \"Çilek\", \"Kiraz\", \"Vişne\", \"Armut\"]\n",
        "cevaplar = [\"y\",\"y\",\"d\",\"d\",\"d\",\"y\"]\n",
        "#soru\n",
        "print(\"%s meyvesi kırmızıdır\" % sorular[0] )\n",
        "cevap = input(\"d/y olarak cevap veriniz\")\n",
        "print(cevaplar[0] == cevap)\n"
      ],
      "metadata": {
        "id": "fxvIWEm5LDK7"
      },
      "execution_count": null,
      "outputs": []
    },
    {
      "cell_type": "code",
      "source": [
        "#Bilgisayar Çalışşmıyor\n",
        "print(\"Sorulara e/h harfleriyle cevap veriniz!\")\n",
        "print(\"Elektrikler var mı?\")\n",
        "cevap = input(\"e/h: \")\n",
        "if(cevap == \"h\"):\n",
        "  print(\"Elektriklerin gelmesini bekleyiniz..\")\n",
        "elif(cevap == \"e\"):\n",
        "  print(\"Kablo takılı mı kontrol ediniz..\")\n",
        "else:\n",
        "  print(\"Lütfen sadece e ya da h ile cevap veriniz!\")\n"
      ],
      "metadata": {
        "id": "aYIIfIpSQwG1"
      },
      "execution_count": null,
      "outputs": []
    }
  ]
}