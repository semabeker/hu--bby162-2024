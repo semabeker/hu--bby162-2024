{
  "nbformat": 4,
  "nbformat_minor": 0,
  "metadata": {
    "colab": {
      "provenance": [],
      "authorship_tag": "ABX9TyMD8Qrv5w9GGkRmI3gqlGa0",
      "include_colab_link": true
    },
    "kernelspec": {
      "name": "python3",
      "display_name": "Python 3"
    },
    "language_info": {
      "name": "python"
    }
  },
  "cells": [
    {
      "cell_type": "markdown",
      "metadata": {
        "id": "view-in-github",
        "colab_type": "text"
      },
      "source": [
        "<a href=\"https://colab.research.google.com/github/semabeker/hu--bby162-2024/blob/main/diltespitdeneme.ipynb\" target=\"_parent\"><img src=\"https://colab.research.google.com/assets/colab-badge.svg\" alt=\"Open In Colab\"/></a>"
      ]
    },
    {
      "cell_type": "code",
      "execution_count": 2,
      "metadata": {
        "colab": {
          "base_uri": "https://localhost:8080/"
        },
        "id": "9KNZX-LwGUdu",
        "outputId": "1e732248-489c-4274-db16-0ee0905e9633"
      },
      "outputs": [
        {
          "output_type": "stream",
          "name": "stdout",
          "text": [
            "Metin dili: Türkçe\n"
          ]
        }
      ],
      "source": [
        "def dil_tespit(metin):\n",
        "    diller = {\n",
        "        'Türkçe': ['ve', 'bu', 'bir', 'ben', 'için'],\n",
        "        'İngilizce': ['the', 'and', 'this', 'is', 'for'],\n",
        "        'Almanca': ['und', 'dies', 'ist', 'für', 'ein'],\n",
        "        'Fransızca': ['et', 'ce', 'est', 'pour', 'un'],\n",
        "        'İspanyolca': ['y', 'esto', 'es', 'para', 'un']\n",
        "    }\n",
        "\n",
        "    kelime_sayilari = {dil: 0 for dil in diller.keys()}\n",
        "\n",
        "    # Metni kelimelere ayır\n",
        "    kelimeler = metin.lower().split()\n",
        "\n",
        "    # Her dil için kelime frekansını say\n",
        "    for kelime in kelimeler:\n",
        "        for dil, anahtar_kelimeler in diller.items():\n",
        "            if kelime in anahtar_kelimeler:\n",
        "                kelime_sayilari[dil] += 1\n",
        "\n",
        "    # En yüksek frekansa sahip dili bul\n",
        "    en_yuksek_dil = max(kelime_sayilari, key=kelime_sayilari.get)\n",
        "    return en_yuksek_dil\n",
        "\n",
        "# Kullanım\n",
        "metin = \"Bu bir Türkçe cümledir.\"\n",
        "print(\"Metin dili:\", dil_tespit(metin))\n"
      ]
    },
    {
      "cell_type": "code",
      "source": [
        "def dil_tespit(metin):\n",
        "    diller = {\n",
        "        'Türkçe': ['ve', 'bu', 'bir', 'ben', 'için'],\n",
        "        'İngilizce': ['the', 'and', 'this', 'is', 'for'],\n",
        "        'Almanca': ['und', 'dies', 'ist', 'für', 'ein'],\n",
        "        'Fransızca': ['et', 'ce', 'est', 'pour', 'un'],\n",
        "        'İspanyolca': ['y', 'esto', 'es', 'para', 'un']\n",
        "    }\n",
        "\n",
        "    kelime_sayilari = {dil: 0 for dil in diller.keys()}\n",
        "\n",
        "    # Metni kelimelere ayır\n",
        "    kelimeler = metin.lower().split()\n",
        "\n",
        "    # Her dil için kelime frekansını say\n",
        "    for kelime in kelimeler:\n",
        "        for dil, anahtar_kelimeler in diller.items():\n",
        "            if kelime in anahtar_kelimeler:\n",
        "                kelime_sayilari[dil] += 1\n",
        "\n",
        "    # Sonuçları yazdır\n",
        "    for dil, sayi in kelime_sayilari.items():\n",
        "        print(f\"{dil}: {sayi} kelime\")\n",
        "\n",
        "    # En yüksek frekansa sahip dili bul\n",
        "    en_yuksek_dil = max(kelime_sayilari, key=kelime_sayilari.get)\n",
        "    return en_yuksek_dil\n",
        "\n",
        "# Kullanım\n",
        "metin = \"Bu bir Türkçe cümledir. This is an English sentence. Y esto es una frase en español.\"\n",
        "print(\"Metin dili:\", dil_tespit(metin))\n",
        "\n"
      ],
      "metadata": {
        "colab": {
          "base_uri": "https://localhost:8080/"
        },
        "id": "vV09X8lWGymB",
        "outputId": "26be6d31-8928-4800-e1d2-7e01c709b4af"
      },
      "execution_count": 5,
      "outputs": [
        {
          "output_type": "stream",
          "name": "stdout",
          "text": [
            "Türkçe: 2 kelime\n",
            "İngilizce: 2 kelime\n",
            "Almanca: 0 kelime\n",
            "Fransızca: 0 kelime\n",
            "İspanyolca: 3 kelime\n",
            "Metin dili: İspanyolca\n"
          ]
        }
      ]
    }
  ]
}