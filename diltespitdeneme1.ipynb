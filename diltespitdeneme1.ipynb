{
  "nbformat": 4,
  "nbformat_minor": 0,
  "metadata": {
    "colab": {
      "provenance": [],
      "authorship_tag": "ABX9TyOvipFageagO83Ob2YkYslP",
      "include_colab_link": true
    },
    "kernelspec": {
      "name": "python3",
      "display_name": "Python 3"
    },
    "language_info": {
      "name": "python"
    }
  },
  "cells": [
    {
      "cell_type": "markdown",
      "metadata": {
        "id": "view-in-github",
        "colab_type": "text"
      },
      "source": [
        "<a href=\"https://colab.research.google.com/github/semabeker/hu--bby162-2024/blob/main/diltespitdeneme1.ipynb\" target=\"_parent\"><img src=\"https://colab.research.google.com/assets/colab-badge.svg\" alt=\"Open In Colab\"/></a>"
      ]
    },
    {
      "cell_type": "code",
      "source": [],
      "metadata": {
        "colab": {
          "base_uri": "https://localhost:8080/"
        },
        "id": "2pnulwX0MoOB",
        "outputId": "7a636300-972d-47b6-c41f-82b1494a429b"
      },
      "execution_count": 2,
      "outputs": [
        {
          "output_type": "stream",
          "name": "stdout",
          "text": [
            "Türkçe\n"
          ]
        }
      ]
    },
    {
      "cell_type": "code",
      "source": [
        "def dil_tespiti(metin):\n",
        "    # Her dilde karakteristik harfler ve soru kelimeleri\n",
        "    dil_ozellikleri = {\n",
        "        'Türkçe': {\n",
        "            'karakterler': 'çşığüö',\n",
        "            'soru_ekleri': ['mi', 'mı', 'mu', 'mü']\n",
        "        },\n",
        "        'İngilizce': {\n",
        "            'karakterler': 'wqxj',\n",
        "            'soru_kelimeri': ['what', 'where', 'how', 'why', 'do', 'does', 'is']\n",
        "        },\n",
        "        'Almanca': {\n",
        "            'karakterler': 'äöüß',\n",
        "            'soru_kelimeri': ['was', 'wo', 'wie', 'warum']\n",
        "        },\n",
        "        'Fransızca': {\n",
        "            'karakterler': 'éèàç',\n",
        "            'soru_kelimeri': ['quoi', 'où', 'comment', 'pourquoi']\n",
        "        },\n",
        "        'İspanyolca': {\n",
        "            'karakterler': 'áéíóúüñ',\n",
        "            'soru_kelimeri': ['qué', 'dónde', 'cómo', 'por qué']\n",
        "        }\n",
        "    }\n",
        "\n",
        "    skorlar = {dil: 0 for dil in dil_ozellikleri}\n",
        "    metin_lower = metin.lower()  # Büyük/küçük harf duyarlılığını ortadan kaldırmak için\n",
        "\n",
        "    # Dil özelliklerine göre karakter analizi ve skor hesaplama\n",
        "    for dil, ozellikler in dil_ozellikleri.items():\n",
        "        karakter_skoru = sum(metin_lower.count(harf) for harf in ozellikler['karakterler'])\n",
        "        skorlar[dil] += karakter_skoru * 2  # Karakter skorlarını 2 ile çarpıyoruz\n",
        "\n",
        "    # Soru cümlesi olup olmadığını kontrol etme ve dil tespiti\n",
        "    soru_cumlesi = False\n",
        "    for dil, ozellikler in dil_ozellikleri.items():\n",
        "        # Türkçe'de soru eklerini kontrol etme\n",
        "        if dil == 'Türkçe' and any(metin_lower.endswith(ek) for ek in ozellikler['soru_ekleri']):\n",
        "            skorlar[dil] += 3  # Soru eki bulursak ekstra puan\n",
        "            soru_cumlesi = True\n",
        "        # Diğer dillerde soru kelimelerini kontrol etme\n",
        "        elif any(kelime in metin_lower for kelime in ozellikler.get('soru_kelimeri', [])):\n",
        "            skorlar[dil] += 3  # Soru kelimesi bulursak ekstra puan\n",
        "            soru_cumlesi = True\n",
        "\n",
        "    # Skorlara göre en yüksek puanlı dili tespit et\n",
        "    tespit_edilen_dil = max(skorlar, key=skorlar.get)\n",
        "\n",
        "    # Çıktı ver\n",
        "    if soru_cumlesi:\n",
        "        print(f\"Girilen metin bir soru cümlesidir ve muhtemelen {tespit_edilen_dil} dilinde yazılmıştır.\")\n",
        "    else:\n",
        "        print(f\"Girilen metin muhtemelen {tespit_edilen_dil} dilinde yazılmıştır.\")\n",
        "\n",
        "# Örnek kullanımlar\n",
        "metin1 = \"Bu bir test cümlesi mi?\"\n",
        "dil_tespiti(metin1)\n",
        "\n",
        "metin2 = \"Where is the nearest cafe?\"\n",
        "dil_tespiti(metin2)\n",
        "\n",
        "metin3 = \"Comment ça va?\"\n",
        "dil_tespiti(metin3)\n",
        "\n",
        "metin4 = \"¿Dónde está el baño?\"\n",
        "dil_tespiti(metin4)\n"
      ],
      "metadata": {
        "colab": {
          "base_uri": "https://localhost:8080/"
        },
        "id": "6KG_zFssNQPO",
        "outputId": "a6a6b4b1-0a1d-467c-d9fa-646e943191c2"
      },
      "execution_count": 4,
      "outputs": [
        {
          "output_type": "stream",
          "name": "stdout",
          "text": [
            "Girilen metin muhtemelen Türkçe dilinde yazılmıştır.\n",
            "Girilen metin bir soru cümlesidir ve muhtemelen İngilizce dilinde yazılmıştır.\n",
            "Girilen metin bir soru cümlesidir ve muhtemelen Fransızca dilinde yazılmıştır.\n",
            "Girilen metin bir soru cümlesidir ve muhtemelen İspanyolca dilinde yazılmıştır.\n"
          ]
        }
      ]
    },
    {
      "cell_type": "code",
      "source": [
        "def dil_tespiti(metin):\n",
        "    # Her dilin kendine özgü karakter setleri\n",
        "    dil_ozellikleri = {\n",
        "        'Türkçe': 'çşığüö',\n",
        "        'İngilizce': 'wqxj',\n",
        "        'Almanca': 'äöüß',\n",
        "        'Fransızca': 'éèàç',\n",
        "        'İspanyolca': 'áéíóúüñ'\n",
        "    }\n",
        "\n",
        "    skorlar = {dil: 0 for dil in dil_ozellikleri}\n",
        "    metin_lower = metin.lower()  # Büyük/küçük harf duyarlılığını ortadan kaldırmak için\n",
        "\n",
        "    # Dil özelliklerine göre karakter analizi ve skor hesaplama\n",
        "    for dil, karakterler in dil_ozellikleri.items():\n",
        "        skorlar[dil] = sum(metin_lower.count(harf) for harf in karakterler)\n",
        "\n",
        "    # Skorlara göre en yüksek puanlı dili tespit et\n",
        "    tespit_edilen_dil = max(skorlar, key=skorlar.get)\n",
        "    return tespit_edilen_dil\n",
        "\n",
        "def soru_sor():\n",
        "    print(\"Metnin hangi dilde yazıldığını öğrenmek için bir cümle girin:\")\n",
        "    metin = input(\"Girilen Metin: \")\n",
        "\n",
        "    dil = dil_tespiti(metin)\n",
        "    print(f\"Girdiğiniz metin muhtemelen {dil} dilinde yazılmıştır.\")\n",
        "\n",
        "# Uygulamayı çalıştırmak için\n",
        "soru_sor()\n"
      ],
      "metadata": {
        "colab": {
          "base_uri": "https://localhost:8080/"
        },
        "id": "F8CDTWlBNuyX",
        "outputId": "6ef465dd-2324-4eea-ffe2-c4d699c0e382"
      },
      "execution_count": 6,
      "outputs": [
        {
          "output_type": "stream",
          "name": "stdout",
          "text": [
            "Metnin hangi dilde yazıldığını öğrenmek için bir cümle girin:\n",
            "Girilen Metin: welcome\n",
            "Girdiğiniz metin muhtemelen İngilizce dilinde yazılmıştır.\n"
          ]
        }
      ]
    },
    {
      "cell_type": "code",
      "source": [
        "def dil_tespiti(metin):\n",
        "    # Her dilin kendine özgü karakter setleri\n",
        "    dil_ozellikleri = {\n",
        "        'Türkçe': 'çşığüö',\n",
        "        'İngilizce': 'wqxj',\n",
        "        'Almanca': 'äöüß',\n",
        "        'Fransızca': 'éèàç',\n",
        "        'İspanyolca': 'áéíóúüñ'\n",
        "    }\n",
        "\n",
        "    skorlar = {dil: 0 for dil in dil_ozellikleri}\n",
        "    metin_lower = metin.lower()  # Büyük/küçük harf duyarlılığını ortadan kaldırmak için\n",
        "\n",
        "    # Dil özelliklerine göre karakter analizi ve skor hesaplama\n",
        "    for dil, karakterler in dil_ozellikleri.items():\n",
        "        skorlar[dil] = sum(metin_lower.count(harf) for harf in karakterler)\n",
        "\n",
        "    # Skorlara göre en yüksek puanlı dili tespit et\n",
        "    tespit_edilen_dil = max(skorlar, key=skorlar.get)\n",
        "    return tespit_edilen_dil\n",
        "\n",
        "def soru_sor():\n",
        "    print(\"Metnin hangi dilde yazıldığını öğrenmek için bir cümle girin (Çıkmak için 'q' ya basın):\")\n",
        "\n",
        "    while True:\n",
        "        metin = input(\"Girilen Metin: \")\n",
        "\n",
        "        if metin.lower() == 'q':\n",
        "            print(\"Programdan çıkılıyor...\")\n",
        "            break\n",
        "\n",
        "        dil = dil_tespiti(metin)\n",
        "        print(f\"Girdiğiniz metin muhtemelen {dil} dilinde yazılmıştır.\\n\")\n",
        "\n",
        "# Uygulamayı çalıştırmak için\n",
        "soru_sor()\n"
      ],
      "metadata": {
        "colab": {
          "base_uri": "https://localhost:8080/",
          "height": 321
        },
        "id": "V3E9i5meONo3",
        "outputId": "c1f28e8b-35bf-456c-d109-e3c0868ba89f"
      },
      "execution_count": 8,
      "outputs": [
        {
          "output_type": "error",
          "ename": "KeyboardInterrupt",
          "evalue": "Interrupted by user",
          "traceback": [
            "\u001b[0;31m---------------------------------------------------------------------------\u001b[0m",
            "\u001b[0;31mKeyboardInterrupt\u001b[0m                         Traceback (most recent call last)",
            "\u001b[0;32m<ipython-input-8-cb2d71edfd3f>\u001b[0m in \u001b[0;36m<cell line: 36>\u001b[0;34m()\u001b[0m\n\u001b[1;32m     34\u001b[0m \u001b[0;34m\u001b[0m\u001b[0m\n\u001b[1;32m     35\u001b[0m \u001b[0;31m# Uygulamayı çalıştırmak için\u001b[0m\u001b[0;34m\u001b[0m\u001b[0;34m\u001b[0m\u001b[0m\n\u001b[0;32m---> 36\u001b[0;31m \u001b[0msoru_sor\u001b[0m\u001b[0;34m(\u001b[0m\u001b[0;34m)\u001b[0m\u001b[0;34m\u001b[0m\u001b[0;34m\u001b[0m\u001b[0m\n\u001b[0m",
            "\u001b[0;32m<ipython-input-8-cb2d71edfd3f>\u001b[0m in \u001b[0;36msoru_sor\u001b[0;34m()\u001b[0m\n\u001b[1;32m     24\u001b[0m \u001b[0;34m\u001b[0m\u001b[0m\n\u001b[1;32m     25\u001b[0m     \u001b[0;32mwhile\u001b[0m \u001b[0;32mTrue\u001b[0m\u001b[0;34m:\u001b[0m\u001b[0;34m\u001b[0m\u001b[0;34m\u001b[0m\u001b[0m\n\u001b[0;32m---> 26\u001b[0;31m         \u001b[0mmetin\u001b[0m \u001b[0;34m=\u001b[0m \u001b[0minput\u001b[0m\u001b[0;34m(\u001b[0m\u001b[0;34m\"Girilen Metin: \"\u001b[0m\u001b[0;34m)\u001b[0m\u001b[0;34m\u001b[0m\u001b[0;34m\u001b[0m\u001b[0m\n\u001b[0m\u001b[1;32m     27\u001b[0m \u001b[0;34m\u001b[0m\u001b[0m\n\u001b[1;32m     28\u001b[0m         \u001b[0;32mif\u001b[0m \u001b[0mmetin\u001b[0m\u001b[0;34m.\u001b[0m\u001b[0mlower\u001b[0m\u001b[0;34m(\u001b[0m\u001b[0;34m)\u001b[0m \u001b[0;34m==\u001b[0m \u001b[0;34m'q'\u001b[0m\u001b[0;34m:\u001b[0m\u001b[0;34m\u001b[0m\u001b[0;34m\u001b[0m\u001b[0m\n",
            "\u001b[0;32m/usr/local/lib/python3.10/dist-packages/ipykernel/kernelbase.py\u001b[0m in \u001b[0;36mraw_input\u001b[0;34m(self, prompt)\u001b[0m\n\u001b[1;32m    849\u001b[0m                 \u001b[0;34m\"raw_input was called, but this frontend does not support input requests.\"\u001b[0m\u001b[0;34m\u001b[0m\u001b[0;34m\u001b[0m\u001b[0m\n\u001b[1;32m    850\u001b[0m             )\n\u001b[0;32m--> 851\u001b[0;31m         return self._input_request(str(prompt),\n\u001b[0m\u001b[1;32m    852\u001b[0m             \u001b[0mself\u001b[0m\u001b[0;34m.\u001b[0m\u001b[0m_parent_ident\u001b[0m\u001b[0;34m,\u001b[0m\u001b[0;34m\u001b[0m\u001b[0;34m\u001b[0m\u001b[0m\n\u001b[1;32m    853\u001b[0m             \u001b[0mself\u001b[0m\u001b[0;34m.\u001b[0m\u001b[0m_parent_header\u001b[0m\u001b[0;34m,\u001b[0m\u001b[0;34m\u001b[0m\u001b[0;34m\u001b[0m\u001b[0m\n",
            "\u001b[0;32m/usr/local/lib/python3.10/dist-packages/ipykernel/kernelbase.py\u001b[0m in \u001b[0;36m_input_request\u001b[0;34m(self, prompt, ident, parent, password)\u001b[0m\n\u001b[1;32m    893\u001b[0m             \u001b[0;32mexcept\u001b[0m \u001b[0mKeyboardInterrupt\u001b[0m\u001b[0;34m:\u001b[0m\u001b[0;34m\u001b[0m\u001b[0;34m\u001b[0m\u001b[0m\n\u001b[1;32m    894\u001b[0m                 \u001b[0;31m# re-raise KeyboardInterrupt, to truncate traceback\u001b[0m\u001b[0;34m\u001b[0m\u001b[0;34m\u001b[0m\u001b[0m\n\u001b[0;32m--> 895\u001b[0;31m                 \u001b[0;32mraise\u001b[0m \u001b[0mKeyboardInterrupt\u001b[0m\u001b[0;34m(\u001b[0m\u001b[0;34m\"Interrupted by user\"\u001b[0m\u001b[0;34m)\u001b[0m \u001b[0;32mfrom\u001b[0m \u001b[0;32mNone\u001b[0m\u001b[0;34m\u001b[0m\u001b[0;34m\u001b[0m\u001b[0m\n\u001b[0m\u001b[1;32m    896\u001b[0m             \u001b[0;32mexcept\u001b[0m \u001b[0mException\u001b[0m \u001b[0;32mas\u001b[0m \u001b[0me\u001b[0m\u001b[0;34m:\u001b[0m\u001b[0;34m\u001b[0m\u001b[0;34m\u001b[0m\u001b[0m\n\u001b[1;32m    897\u001b[0m                 \u001b[0mself\u001b[0m\u001b[0;34m.\u001b[0m\u001b[0mlog\u001b[0m\u001b[0;34m.\u001b[0m\u001b[0mwarning\u001b[0m\u001b[0;34m(\u001b[0m\u001b[0;34m\"Invalid Message:\"\u001b[0m\u001b[0;34m,\u001b[0m \u001b[0mexc_info\u001b[0m\u001b[0;34m=\u001b[0m\u001b[0;32mTrue\u001b[0m\u001b[0;34m)\u001b[0m\u001b[0;34m\u001b[0m\u001b[0;34m\u001b[0m\u001b[0m\n",
            "\u001b[0;31mKeyboardInterrupt\u001b[0m: Interrupted by user"
          ]
        }
      ]
    },
    {
      "cell_type": "code",
      "source": [
        "def dil_tespiti(metin):\n",
        "    # Her dil için özel karakterler ve yaygın kelimeler\n",
        "    dil_ozellikleri = {\n",
        "        'Türkçe': {\n",
        "            'karakterler': 'çşığüö',\n",
        "            'kelimeler': ['ve', 'bir', 'bu', 'mi', 'mı']\n",
        "        },\n",
        "        'İngilizce': {\n",
        "            'karakterler': 'wqxj',\n",
        "            'kelimeler': ['the', 'is', 'and', 'what', 'do']\n",
        "        },\n",
        "        'Almanca': {\n",
        "            'karakterler': 'äöüß',\n",
        "            'kelimeler': ['und', 'ist', 'ein', 'was', 'wie']\n",
        "        },\n",
        "        'Fransızca': {\n",
        "            'karakterler': 'éèàç',\n",
        "            'kelimeler': ['le', 'est', 'et', 'quoi', 'pour']\n",
        "        },\n",
        "        'İspanyolca': {\n",
        "            'karakterler': 'áéíóúüñ',\n",
        "            'kelimeler': ['el', 'es', 'y', 'qué', 'por']\n",
        "        }\n",
        "    }\n",
        "\n",
        "    skorlar = {dil: 0 for dil in dil_ozellikleri}\n",
        "    metin_lower = metin.lower()  # Büyük/küçük harf duyarlılığını ortadan kaldırmak için\n",
        "\n",
        "    # Dil özelliklerine göre karakter analizi ve skor hesaplama\n",
        "    for dil, ozellikler in dil_ozellikleri.items():\n",
        "        # Özel karakterler için skor\n",
        "        karakter_skoru = sum(metin_lower.count(harf) for harf in ozellikler['karakterler'])\n",
        "        skorlar[dil] += karakter_skoru * 2  # Karakter skorlarını iki kat artırarak etkisini güçlendirelim\n",
        "\n",
        "        # Yaygın kelimeler için skor\n",
        "        kelime_skoru = sum(metin_lower.count(kelime) for kelime in ozellikler['kelimeler'])\n",
        "        skorlar[dil] += kelime_skoru * 3  # Kelime skorlarını daha güçlü yansıtmak için 3 ile çarpalım\n",
        "\n",
        "    # En yüksek puana sahip dili bul\n",
        "    tespit_edilen_dil = max(skorlar, key=skorlar.get)\n",
        "    return tespit_edilen_dil\n",
        "\n",
        "def soru_sor():\n",
        "    print(\"Metnin hangi dilde yazıldığını öğrenmek için bir cümle girin (Çıkmak için 'q' ya basın):\")\n",
        "\n",
        "    while True:\n",
        "        metin = input(\"Girilen Metin: \")\n",
        "\n",
        "        if metin.lower() == 'q':\n",
        "            print(\"Programdan çıkılıyor...\")\n",
        "            break\n",
        "\n",
        "        dil = dil_tespiti(metin)\n",
        "        print(f\"Girdiğiniz metin muhtemelen {dil} dilinde yazılmıştır.\\n\")\n",
        "\n",
        "# Uygulamayı çalıştırmak için\n",
        "soru_sor()\n"
      ],
      "metadata": {
        "colab": {
          "base_uri": "https://localhost:8080/"
        },
        "id": "QCt9GU1pPwUX",
        "outputId": "c4c91869-3b47-4646-928c-1632bb7e977b"
      },
      "execution_count": 9,
      "outputs": [
        {
          "output_type": "stream",
          "name": "stdout",
          "text": [
            "Metnin hangi dilde yazıldığını öğrenmek için bir cümle girin (Çıkmak için 'q' ya basın):\n",
            "Girilen Metin: Hallo meine Liebe, wie geht es dir?\n",
            "Girdiğiniz metin muhtemelen Almanca dilinde yazılmıştır.\n",
            "\n",
            "Girilen Metin: ben ve arkadaşım mutluyuz\n",
            "Girdiğiniz metin muhtemelen Türkçe dilinde yazılmıştır.\n",
            "\n",
            "Girilen Metin: hello me and my friend\n",
            "Girdiğiniz metin muhtemelen İspanyolca dilinde yazılmıştır.\n",
            "\n",
            "Girilen Metin: welcome me and sister\n",
            "Girdiğiniz metin muhtemelen İngilizce dilinde yazılmıştır.\n",
            "\n",
            "Girilen Metin: holla mi amor por favor\n",
            "Girdiğiniz metin muhtemelen Türkçe dilinde yazılmıştır.\n",
            "\n",
            "Girilen Metin: q\n",
            "Programdan çıkılıyor...\n"
          ]
        }
      ]
    }
  ]
}