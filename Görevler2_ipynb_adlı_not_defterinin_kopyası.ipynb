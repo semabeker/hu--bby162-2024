{
  "nbformat": 4,
  "nbformat_minor": 0,
  "metadata": {
    "colab": {
      "provenance": [],
      "authorship_tag": "ABX9TyNA9mDDuN6XmOgM70k6J8SK",
      "include_colab_link": true
    },
    "kernelspec": {
      "name": "python3",
      "display_name": "Python 3"
    },
    "language_info": {
      "name": "python"
    }
  },
  "cells": [
    {
      "cell_type": "markdown",
      "metadata": {
        "id": "view-in-github",
        "colab_type": "text"
      },
      "source": [
        "<a href=\"https://colab.research.google.com/github/semabeker/hu--bby162-2024/blob/main/G%C3%B6revler2_ipynb_adl%C4%B1_not_defterinin_kopyas%C4%B1.ipynb\" target=\"_parent\"><img src=\"https://colab.research.google.com/assets/colab-badge.svg\" alt=\"Open In Colab\"/></a>"
      ]
    },
    {
      "cell_type": "code",
      "execution_count": null,
      "metadata": {
        "colab": {
          "base_uri": "https://localhost:8080/"
        },
        "id": "7z6uNMjA3QLH",
        "outputId": "3f8b67d6-57f2-4839-c8cd-b3b660b65266"
      },
      "outputs": [
        {
          "output_type": "stream",
          "name": "stdout",
          "text": [
            "Hadi!Hadi!Hadi!Hadi!Hadi!Hadi!Hadi!Hadi!Hadi!Hadi!Hadi!Hadi!Hadi!Hadi!Hadi!Hadi!Hadi!\n"
          ]
        }
      ],
      "source": [
        "metin = \"Hadi!\"\n",
        "metniCarp = metin * 17\n",
        "print(metniCarp)"
      ]
    },
    {
      "cell_type": "code",
      "source": [
        "metin = \"Python Programlama Dili\"\n",
        "print(\"'p' harfini yakala: \" + metin[7])"
      ],
      "metadata": {
        "colab": {
          "base_uri": "https://localhost:8080/"
        },
        "id": "gx49gbn8LVk2",
        "outputId": "5eabf350-8ba7-4f12-9921-956f1794b05e"
      },
      "execution_count": null,
      "outputs": [
        {
          "output_type": "stream",
          "name": "stdout",
          "text": [
            "'p' harfini yakala: P\n"
          ]
        }
      ]
    },
    {
      "cell_type": "code",
      "source": [
        "metin = \"Python Programlama Dili\"\n",
        "iHarfi = metin[-1]\n",
        "print(iHarfi)"
      ],
      "metadata": {
        "colab": {
          "base_uri": "https://localhost:8080/"
        },
        "id": "27db6sr2MQPw",
        "outputId": "3368a25b-3416-4be3-8f70-31442724e667"
      },
      "execution_count": null,
      "outputs": [
        {
          "output_type": "stream",
          "name": "stdout",
          "text": [
            "i\n"
          ]
        }
      ]
    },
    {
      "cell_type": "code",
      "source": [
        "metin = \"Python Programlama Dili\"\n",
        "dilimle =metin[:6]\n",
        "print(dilimle)\n",
        "\n",
        "metin = \"Python Programlama Dili\"\n",
        "print(metin[7: + 18:])\n",
        "\n",
        "metin = \"Python Programlama Dili\"\n",
        "print(metin[19:])"
      ],
      "metadata": {
        "colab": {
          "base_uri": "https://localhost:8080/"
        },
        "id": "nCiPjz36M6k3",
        "outputId": "6930e249-920d-4852-ee8c-4dade9f68eb6"
      },
      "execution_count": null,
      "outputs": [
        {
          "output_type": "stream",
          "name": "stdout",
          "text": [
            "Python\n",
            "Programlama\n",
            "Dili\n"
          ]
        }
      ]
    },
    {
      "cell_type": "code",
      "source": [
        "metin = \"Python Programlama Dili\"\n",
        "print(\"Python\" in metin)"
      ],
      "metadata": {
        "colab": {
          "base_uri": "https://localhost:8080/"
        },
        "id": "kKGPa_RGP5GI",
        "outputId": "f6924ae5-cbee-438c-b36c-029c1138d3d2"
      },
      "execution_count": null,
      "outputs": [
        {
          "output_type": "stream",
          "name": "stdout",
          "text": [
            "True\n"
          ]
        }
      ]
    },
    {
      "cell_type": "code",
      "source": [
        "metin = \"Python programlama dili, dünyada eğitim amacıyla en çok kullanılan programla dillerinin başında gelir.\"\n",
        "print(len(metin))"
      ],
      "metadata": {
        "colab": {
          "base_uri": "https://localhost:8080/"
        },
        "id": "0KYqiAoCQlym",
        "outputId": "be324553-a386-4bfd-87e4-1f560b806856"
      },
      "execution_count": null,
      "outputs": [
        {
          "output_type": "stream",
          "name": "stdout",
          "text": [
            "102\n"
          ]
        }
      ]
    },
    {
      "cell_type": "code",
      "source": [
        "metin =  \"Python programlama dili, dünyada eğitim amacıyla en çok kullanılan programla dillerinin başında gelir.\"\n",
        "dilimleme = metin[:51]\n",
        "print(dilimleme)"
      ],
      "metadata": {
        "colab": {
          "base_uri": "https://localhost:8080/"
        },
        "id": "OAwY2NUPSF1U",
        "outputId": "e9dda687-0330-4ec0-e461-9faee86d522b"
      },
      "execution_count": null,
      "outputs": [
        {
          "output_type": "stream",
          "name": "stdout",
          "text": [
            "Python programlama dili, dünyada eğitim amacıyla en\n"
          ]
        }
      ]
    },
    {
      "cell_type": "code",
      "source": [],
      "metadata": {
        "id": "IeSVIllCS95p"
      },
      "execution_count": null,
      "outputs": []
    }
  ]
}