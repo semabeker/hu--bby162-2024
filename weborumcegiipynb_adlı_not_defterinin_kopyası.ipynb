{
  "nbformat": 4,
  "nbformat_minor": 0,
  "metadata": {
    "colab": {
      "provenance": [],
      "authorship_tag": "ABX9TyN0pjipxTXSD9pMO6W3tmTi",
      "include_colab_link": true
    },
    "kernelspec": {
      "name": "python3",
      "display_name": "Python 3"
    },
    "language_info": {
      "name": "python"
    }
  },
  "cells": [
    {
      "cell_type": "markdown",
      "metadata": {
        "id": "view-in-github",
        "colab_type": "text"
      },
      "source": [
        "<a href=\"https://colab.research.google.com/github/semabeker/hu--bby162-2024/blob/main/weborumcegiipynb_adl%C4%B1_not_defterinin_kopyas%C4%B1.ipynb\" target=\"_parent\"><img src=\"https://colab.research.google.com/assets/colab-badge.svg\" alt=\"Open In Colab\"/></a>"
      ]
    },
    {
      "cell_type": "code",
      "execution_count": null,
      "metadata": {
        "colab": {
          "base_uri": "https://localhost:8080/"
        },
        "id": "WKLOJAQTctV0",
        "outputId": "1f06ebca-e713-4751-b1cd-1e87df3059ec"
      },
      "outputs": [
        {
          "output_type": "stream",
          "name": "stdout",
          "text": [
            "Requirement already satisfied: requests in /usr/local/lib/python3.10/dist-packages (2.32.3)\n",
            "Requirement already satisfied: beautifulsoup4 in /usr/local/lib/python3.10/dist-packages (4.12.3)\n",
            "Requirement already satisfied: charset-normalizer<4,>=2 in /usr/local/lib/python3.10/dist-packages (from requests) (3.4.0)\n",
            "Requirement already satisfied: idna<4,>=2.5 in /usr/local/lib/python3.10/dist-packages (from requests) (3.10)\n",
            "Requirement already satisfied: urllib3<3,>=1.21.1 in /usr/local/lib/python3.10/dist-packages (from requests) (2.2.3)\n",
            "Requirement already satisfied: certifi>=2017.4.17 in /usr/local/lib/python3.10/dist-packages (from requests) (2024.8.30)\n",
            "Requirement already satisfied: soupsieve>1.2 in /usr/local/lib/python3.10/dist-packages (from beautifulsoup4) (2.6)\n"
          ]
        }
      ],
      "source": [
        "\n",
        "!pip install requests beautifulsoup4\n",
        "\n",
        "import requests\n",
        "from bs4 import BeautifulSoup\n",
        "\n",
        "\n",
        "def get_user_input():\n",
        "    url = input(\"Başlangıç web adresini girin: \")\n",
        "    depth = int(input(\"Taramanın derinlik seviyesini girin: \"))\n",
        "    return url, depth\n",
        "\n",
        "\n",
        "def get_links(url):\n",
        "    response = requests.get(url)\n",
        "    soup = BeautifulSoup(response.text, 'html.parser')\n",
        "    links = [a['href'] for a in soup.find_all('a', href=True)]\n",
        "    return links\n",
        "\n",
        "\n",
        "def visit_pages(url, depth):\n",
        "    visited = {}\n",
        "\n",
        "    def visit(url, level):\n",
        "        if level > depth or url in visited:\n",
        "            return\n",
        "\n",
        "        visited[url] = None\n",
        "        try:\n",
        "            response = requests.get(url)\n",
        "            soup = BeautifulSoup(response.text, 'html.parser')\n",
        "            title = soup.title.string if soup.title else 'No Title'\n",
        "            visited[url] = title\n",
        "\n",
        "            links = get_links(url)\n",
        "            for link in links:\n",
        "                visit(link, level + 1)\n",
        "        except Exception as e:\n",
        "            print(f\"Error visiting {url}: {e}\")\n",
        "\n",
        "    visit(url, 1)\n",
        "    return visited\n",
        "\n",
        "def save_results(visited):\n",
        "    with open('results.txt', 'w') as f:\n",
        "        for url, title in visited.items():\n",
        "            f.write(f\"{url} - {title}\\n\")\n",
        "\n",
        "\n",
        "url, depth = get_user_input()\n",
        "visited = visit_pages(url, depth)\n",
        "save_results(visited)\n",
        "print(\"Tarama tamamlandı, sonuçlar results.txt dosyasına kaydedildi.\")\n"
      ]
    }
  ]
}