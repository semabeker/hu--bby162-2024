{
  "nbformat": 4,
  "nbformat_minor": 0,
  "metadata": {
    "colab": {
      "provenance": [],
      "authorship_tag": "ABX9TyP720jyVApZlkFZvA0u1chx",
      "include_colab_link": true
    },
    "kernelspec": {
      "name": "python3",
      "display_name": "Python 3"
    },
    "language_info": {
      "name": "python"
    }
  },
  "cells": [
    {
      "cell_type": "markdown",
      "metadata": {
        "id": "view-in-github",
        "colab_type": "text"
      },
      "source": [
        "<a href=\"https://colab.research.google.com/github/semabeker/hu--bby162-2024/blob/main/sozluk.ipynb\" target=\"_parent\"><img src=\"https://colab.research.google.com/assets/colab-badge.svg\" alt=\"Open In Colab\"/></a>"
      ]
    },
    {
      "cell_type": "code",
      "execution_count": null,
      "metadata": {
        "colab": {
          "base_uri": "https://localhost:8080/"
        },
        "id": "OkyOfBP5YvH-",
        "outputId": "592315a8-b6a9-4093-bb34-72dc79595ce0"
      },
      "outputs": [
        {
          "output_type": "stream",
          "name": "stdout",
          "text": [
            "Açık Veri\n"
          ]
        }
      ],
      "source": [
        "acıkVeri = [\"Açık Bilim\", \"Açık Erişim\", \"Açık Veri\", \"Açık Eğitim\", \"Açık Kaynak\"]\n",
        "print(acıkVeri[2])\n"
      ]
    },
    {
      "cell_type": "code",
      "source": [
        "acıkListe = [\"Açık Bilim\", \"Açık Erişim\", \"Açık Veri\", \"Açık Eğitim\", \"Açık Kaynak\"]\n",
        "print(acıkListe[3], acıkListe[4])"
      ],
      "metadata": {
        "colab": {
          "base_uri": "https://localhost:8080/"
        },
        "id": "-H6YxvpZv2rh",
        "outputId": "ec4f7897-5674-4120-d7aa-273fafb4e555"
      },
      "execution_count": null,
      "outputs": [
        {
          "output_type": "stream",
          "name": "stdout",
          "text": [
            "Açık Eğitim Açık Kaynak\n"
          ]
        }
      ]
    },
    {
      "cell_type": "code",
      "source": [
        "bilgiBilim = [\"Bilgi\", \"Bilgi Kuramı\", \"Epistemoloji\"]\n",
        "print(bilgiBilim)\n",
        "\n",
        "bilgiBilim.append(\"Bilgi Felsefesi\")\n",
        "bilgiBilim.append(\"Kütüphane Bilgisi\")\n",
        "\n",
        "\n",
        "bilgiBilim[-1] = \"Bilgi\""
      ],
      "metadata": {
        "colab": {
          "base_uri": "https://localhost:8080/"
        },
        "id": "m3R9r4RQ0ydl",
        "outputId": "f8f36e0b-82be-4bae-9c2c-ee82543f0a9b"
      },
      "execution_count": 1,
      "outputs": [
        {
          "output_type": "stream",
          "name": "stdout",
          "text": [
            "['Bilgi', 'Bilgi Kuramı', 'Epistemoloji']\n"
          ]
        }
      ]
    }
  ]
}