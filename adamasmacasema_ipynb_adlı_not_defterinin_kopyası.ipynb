{
  "nbformat": 4,
  "nbformat_minor": 0,
  "metadata": {
    "colab": {
      "provenance": [],
      "authorship_tag": "ABX9TyMeoRCv9BvuAloo5k8ohYwB",
      "include_colab_link": true
    },
    "kernelspec": {
      "name": "python3",
      "display_name": "Python 3"
    },
    "language_info": {
      "name": "python"
    }
  },
  "cells": [
    {
      "cell_type": "markdown",
      "metadata": {
        "id": "view-in-github",
        "colab_type": "text"
      },
      "source": [
        "<a href=\"https://colab.research.google.com/github/semabeker/hu--bby162-2024/blob/main/adamasmacasema_ipynb_adl%C4%B1_not_defterinin_kopyas%C4%B1.ipynb\" target=\"_parent\"><img src=\"https://colab.research.google.com/assets/colab-badge.svg\" alt=\"Open In Colab\"/></a>"
      ]
    },
    {
      "cell_type": "code",
      "source": [
        "from random import choice\n",
        "\n",
        "def kelime_sec(zorluk):\n",
        "    kelimeler = {\n",
        "        \"Kolay\": [\"elma\", \"kuş\", \"ağaç\", \"kedi\", \"mavi\"],\n",
        "        \"Orta\": [\"motor\", \"kahve\", \"yüzme\", \"pasta\", \"dondurma\"],\n",
        "        \"Zor\": [\"sarımsak\", \"ergoterapi\", \"bisiklet\", \"jalepona\", \"fizyoterapist\"]\n",
        "    }\n",
        "    return choice(kelimeler[zorluk])\n",
        "\n",
        "def zorluk_sec():\n",
        "    while True:\n",
        "        print(\"Zorluk seviyesini seçin: Kolay, Orta, Zor\")\n",
        "        zorluk = input().capitalize()\n",
        "        if zorluk in [\"Kolay\", \"Orta\", \"Zor\"]:\n",
        "            return zorluk\n",
        "        else:\n",
        "            print(\"Geçersiz seviye seçimi. Lütfen tekrar deneyin.\")\n",
        "\n",
        "def oyun_turu_oyna(kelime, canlar):\n",
        "    tahmin_edilen_harfler = set()\n",
        "    dizilen_kelime = [\"_\" for _ in kelime]\n",
        "\n",
        "    while canlar > 0:\n",
        "        print(\" \".join(dizilen_kelime))\n",
        "\n",
        "        tahmin = input(\"Bir harf giriniz: \").lower()\n",
        "        if len(tahmin) != 1 or not tahmin.isalpha():\n",
        "            print(\"Geçersiz tahmin. Lütfen bir harf girin.\")\n",
        "            continue\n",
        "\n",
        "        if tahmin in tahmin_edilen_harfler:\n",
        "            print(\"Bu harfi zaten tahmin ettiniz. Başka bir harf deneyin.\")\n",
        "            continue\n",
        "\n",
        "        tahmin_edilen_harfler.add(tahmin)\n",
        "\n",
        "        if tahmin in kelime:\n",
        "            for i in range(len(kelime)):\n",
        "                if kelime[i] == tahmin:\n",
        "                    dizilen_kelime[i] = tahmin\n",
        "            print(f\"Doğru! '{tahmin}' harfi kelimede var.\")\n",
        "        else:\n",
        "            canlar -= 1\n",
        "            print(f\"Yanlış! '{tahmin}' harfi kelimede yok. Kalan can: {canlar}\")\n",
        "\n",
        "        if \"_\" not in dizilen_kelime:\n",
        "            print(\"Tebrikler, kazandınız! Kelime: \", kelime)\n",
        "            return True\n",
        "\n",
        "    print(f\"Kaybettiniz! Kelime: {kelime}\")\n",
        "    return False\n",
        "\n",
        "def oyun_oyna():\n",
        "    print(\"Adam Asmaca Oyununa Hoşgeldiniz!\")\n",
        "\n",
        "    while True:\n",
        "        zorluk = zorluk_sec()\n",
        "        canlar = {\"Kolay\": 7, \"Orta\": 5, \"Zor\": 3}[zorluk]\n",
        "        kelime = kelime_sec(zorluk)\n",
        "\n",
        "        print(f\"Seviye: {zorluk} - {canlar} canınız var.\")\n",
        "\n",
        "        oyun_turu_oyna(kelime, canlar)\n",
        "\n",
        "        tekrar_oyna = input(\"Yeniden oynamak ister misiniz? (Evet/Hayır): \").lower()\n",
        "        if tekrar_oyna != 'evet':\n",
        "            print(\"Oyundan çıkılıyor. Teşekkürler!\")\n",
        "            break\n",
        "\n",
        "if __name__ == \"__main__\":\n",
        "    oyun_oyna()"
      ],
      "metadata": {
        "colab": {
          "base_uri": "https://localhost:8080/"
        },
        "id": "ERiZWXVvoBAi",
        "outputId": "08f54f73-cdc3-4f89-c6ea-a065c6ad5f4c"
      },
      "execution_count": null,
      "outputs": [
        {
          "output_type": "stream",
          "name": "stdout",
          "text": [
            "Adam Asmaca Oyununa Hoşgeldiniz!\n",
            "Zorluk seviyesini seçin: Kolay, Orta, Zor\n",
            "Kolay\n",
            "Seviye: Kolay - 7 canınız var.\n",
            "_ _ _ _\n",
            "Bir harf giriniz: a\n",
            "Yanlış! 'a' harfi kelimede yok. Kalan can: 6\n",
            "_ _ _ _\n",
            "Bir harf giriniz: m\n",
            "Yanlış! 'm' harfi kelimede yok. Kalan can: 5\n",
            "_ _ _ _\n",
            "Bir harf giriniz: k\n",
            "Doğru! 'k' harfi kelimede var.\n",
            "k _ _ _\n",
            "Bir harf giriniz: e\n",
            "Doğru! 'e' harfi kelimede var.\n",
            "k e _ _\n",
            "Bir harf giriniz: d\n",
            "Doğru! 'd' harfi kelimede var.\n",
            "k e d _\n",
            "Bir harf giriniz: i\n",
            "Doğru! 'i' harfi kelimede var.\n",
            "Tebrikler, kazandınız! Kelime:  kedi\n",
            "Yeniden oynamak ister misiniz? (Evet/Hayır): hayır\n",
            "Oyundan çıkılıyor. Teşekkürler!\n"
          ]
        }
      ]
    }
  ]
}