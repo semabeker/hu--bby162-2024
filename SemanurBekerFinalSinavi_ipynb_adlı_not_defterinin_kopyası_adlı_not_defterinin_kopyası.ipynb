{
  "nbformat": 4,
  "nbformat_minor": 0,
  "metadata": {
    "colab": {
      "provenance": [],
      "include_colab_link": true
    },
    "kernelspec": {
      "name": "python3",
      "display_name": "Python 3"
    },
    "language_info": {
      "name": "python"
    }
  },
  "cells": [
    {
      "cell_type": "markdown",
      "metadata": {
        "id": "view-in-github",
        "colab_type": "text"
      },
      "source": [
        "<a href=\"https://colab.research.google.com/github/semabeker/hu--bby162-2024/blob/main/SemanurBekerFinalSinavi_ipynb_adl%C4%B1_not_defterinin_kopyas%C4%B1_adl%C4%B1_not_defterinin_kopyas%C4%B1.ipynb\" target=\"_parent\"><img src=\"https://colab.research.google.com/assets/colab-badge.svg\" alt=\"Open In Colab\"/></a>"
      ]
    },
    {
      "cell_type": "markdown",
      "source": [
        "**Final Sınavına hoşgeldiniz!**"
      ],
      "metadata": {
        "id": "ItmuxWgBbkC1"
      }
    },
    {
      "cell_type": "code",
      "source": [
        "from google.colab import drive\n",
        "drive.mount('/content/drive')"
      ],
      "metadata": {
        "colab": {
          "base_uri": "https://localhost:8080/"
        },
        "id": "LZh74Rf0MRy7",
        "outputId": "c3fc71fa-063b-4a3f-e407-1f11363017af"
      },
      "execution_count": null,
      "outputs": [
        {
          "output_type": "stream",
          "name": "stdout",
          "text": [
            "Mounted at /content/drive\n"
          ]
        }
      ]
    },
    {
      "cell_type": "markdown",
      "source": [
        "Canlı final sınavı, bilgisayar laboratuvarında bilgisayar başında yapılan ve teslim edilen sınavı ifade etmektedir. Canlı final sınavında yazmış olduğunuz kodlar sizin sorumluluğunuzdadır ve gerekirse hangi kodu neden yazdığınızı açık bir şekilde anlatabilmeniz gerekmektedir. Canlı final sınavı sırasında İnternet üzerindeki kaynaklar kullanılabilir ancak başka bir kişiden destek alınamaz.\n",
        "\n",
        "Canlı final sınavının teslim şekli önceki sınav ve projelerin teslim şekli ile aynıdır. \"Final Sınavı\" adlı Colab not defterinin bir kopyasını çıkarmalı, size ait olan bu kopya üzerinde soruları cevaplamalı, GitHub'daki ders deponuza size ait kopyayı yüklemeli ve not defterinin adresini metin alanına yazarak göndermelisiniz.\n",
        "\n",
        "Canlı final sınavının doğru şekilde tamamlanması da sınavın önemli bir parçasıdır. Sınav için gönderdiğiniz adresi kontrol ediniz ve doğru dosyayı depoya yerleştirdiği bizden emin olunuz. Teslim sürecinde yapılan hatalar sınavdan 0 puan almanıza yol açabilir!\n",
        "\n",
        "**Sınav süresi 60 dakikadır!**\n",
        "\n",
        "Önemli Not: Soruları cecaplarken sadece şu ana kadar öğrendiğiniz kod yapılarını kullanmanız gerekmektedir!!!"
      ],
      "metadata": {
        "id": "KGjdjR5RbTgH"
      }
    },
    {
      "cell_type": "markdown",
      "source": [
        "**----- Sorular -----**"
      ],
      "metadata": {
        "id": "zBvdh4s8cOqM"
      }
    },
    {
      "cell_type": "markdown",
      "source": [
        "**Soru 1:** Kod bölümünde yer alan listeyi ekrana aşağıda gösterildiği şekilde \"for\" döngüsü kullanarak yazdırın. Her kelimenin başındaki numara otomatik olarak verilmelidir. (5 Puan)\n",
        "\n",
        "1.   Açık Erişim\n",
        "2.   Açık Bilim\n",
        "3.   Açık Veri\n",
        "4.   Açık Eğitim\n",
        "5.   Açık Kültür"
      ],
      "metadata": {
        "id": "ma0FVqgQiLBe"
      }
    },
    {
      "cell_type": "code",
      "source": [
        "#Soru 1 bu bölümde kodlanmalıdır\n",
        "acikListe = [\"Açık Erişim\", \"Açık Bilim\", \"Açık Veri\", \"Açık Eğitim\", \"Açık Kültür\"]\n",
        "\n",
        "numara = 1\n",
        "for kelime in acikListe:\n",
        "    print(f\"{numara}){kelime}\")\n",
        "    numara += 1\n",
        "\n"
      ],
      "metadata": {
        "id": "Fj7wkLMcjp_7",
        "colab": {
          "base_uri": "https://localhost:8080/"
        },
        "outputId": "0a4f8c11-0e4c-4548-8ffa-5196b357ec83"
      },
      "execution_count": null,
      "outputs": [
        {
          "output_type": "stream",
          "name": "stdout",
          "text": [
            "1)Açık Erişim\n",
            "2)Açık Bilim\n",
            "3)Açık Veri\n",
            "4)Açık Eğitim\n",
            "5)Açık Kültür\n"
          ]
        }
      ]
    },
    {
      "cell_type": "markdown",
      "source": [
        "**Soru 2:** Kod bölümünde yer alan boş sözlüğe klavyeden yeni veri ekleyecek kodu yazınız. Yeni veri hem anahtarı (key) hem de anahtara karşılık gelecek değerli (value) içermelidir. Veri girişi yapıldıktan sonra sözlüğün güncel hali de ekrana yazıdırılmalıdır. (5 Puan)"
      ],
      "metadata": {
        "id": "uZDiXJARgK4o"
      }
    },
    {
      "cell_type": "code",
      "source": [
        "#Soru 2 bu bölümde kodlanmalıdır\n",
        "sozluk = {}\n",
        "anahtar = input(\"Lütfen anahtarı giriniz: \")\n",
        "deger = input(\"Lütfen değeri giriniz: \")\n",
        "\n",
        "sozluk[anahtar] = deger\n",
        "print(\"Güncel sözlük: \", sozluk)\n",
        "\n"
      ],
      "metadata": {
        "id": "no7Zd1ZCh5U3",
        "colab": {
          "base_uri": "https://localhost:8080/"
        },
        "outputId": "ed5850df-4080-4b60-fb62-4ac752f4224e"
      },
      "execution_count": null,
      "outputs": [
        {
          "output_type": "stream",
          "name": "stdout",
          "text": [
            "Lütfen anahtarı giriniz: gül\n",
            "Lütfen değeri giriniz: kırmızı\n",
            "Güncel sözlük:  {'gül': 'kırmızı'}\n"
          ]
        }
      ]
    },
    {
      "cell_type": "markdown",
      "source": [
        "**Soru 3:** Herhangi bir metin dosyasında (ör: [veri.txt](https://drive.google.com/file/d/1WVCEET3G3ishvIR-V6lCav7jBgaZLT-o/view?usp=sharing)) satır satır yer alan verileri okuyup ekrana satır satır yazdıracak kodu yazınız. (10 Puan)"
      ],
      "metadata": {
        "id": "HnIqbjcCeNEV"
      }
    },
    {
      "cell_type": "code",
      "source": [
        "#Soru 3 bu bölümde kodlanmalıdır\n",
        "dosya = \"/content/drive/MyDrive/Colab Notebooks/veri.ipynb adlı not defterinin kopyası\"\n",
        "sistem = open(dosya, \"w\")\n",
        "sistem.close()\n",
        "\n",
        "\n",
        "adSoyad = input(\"Adınızı soyadınızı giriniz: \")\n",
        "ePosta = input(\"E-posta adresinizi giriniz: \")\n",
        "\n",
        "dosyaYaz = open(dosya, \"a\")\n",
        "dosyaYaz.write(adSoyad+\" - \"+ePosta+\"\\n\")\n",
        "dosyaYaz.close()\n",
        "\n",
        "dosyaOku = open(dosya, \"r\")\n",
        "\n",
        "for satir in dosyaOku.readlines():\n",
        "  print(satir)\n",
        "\n",
        "dosyaOku.close()\n"
      ],
      "metadata": {
        "id": "SjzG5g3ffTyv",
        "colab": {
          "base_uri": "https://localhost:8080/"
        },
        "outputId": "48c8b568-c2b3-493f-cd0b-967b1cefbf12"
      },
      "execution_count": null,
      "outputs": [
        {
          "output_type": "stream",
          "name": "stdout",
          "text": [
            "Adınızı soyadınızı giriniz: semanur beker\n",
            "E-posta adresinizi giriniz: semanurbeker4@gmail.com\n",
            "semanur beker - semanurbeker4@gmail.com\n",
            "\n"
          ]
        }
      ]
    },
    {
      "cell_type": "markdown",
      "source": [
        "**Soru 4:** Verilerin bir TXT dosyasında depolanabileceği basit bir adres defteri oluşturunuz. Adres defterindeki öğeler Ad-Soyad ve e-Posta olacaktır. Bu adres desteri uygulamasında bir menü yapısı (uygulama içinde fonksiyolar) olmalıdır. 1. seçenek adres defterindeki girişleri göstermeli, 2. seçenek adres defterine yeni veri eklemeli, 3. seçenek ise uygulamayı sonlandırmalıdır. (20 Puan)"
      ],
      "metadata": {
        "id": "p49cZFjJcXoS"
      }
    },
    {
      "cell_type": "code",
      "execution_count": null,
      "metadata": {
        "id": "3whYCDz3a8QZ",
        "colab": {
          "base_uri": "https://localhost:8080/"
        },
        "outputId": "695c8596-2c76-44b0-d732-1aa6223fa57b"
      },
      "outputs": [
        {
          "output_type": "stream",
          "name": "stdout",
          "text": [
            "\n",
            "Adres Defteri Uygulaması\n",
            "1. Adres defterindeki girişleri göster\n",
            "2. Adres defterine yeni veri ekle\n",
            "3. Uygulamayı sonlandır\n",
            "Seçiminiz (1/2/3): 1\n",
            "\n",
            "Adres defteri henüz oluşturulmadı.\n",
            "\n",
            "Adres Defteri Uygulaması\n",
            "1. Adres defterindeki girişleri göster\n",
            "2. Adres defterine yeni veri ekle\n",
            "3. Uygulamayı sonlandır\n",
            "Seçiminiz (1/2/3): 2\n",
            "Ad-Soyad: semanur beker\n",
            "e-Posta: semanurbeker4@gmail.com\n",
            "Yeni giriş başarıyla eklendi!\n",
            "\n",
            "Adres Defteri Uygulaması\n",
            "1. Adres defterindeki girişleri göster\n",
            "2. Adres defterine yeni veri ekle\n",
            "3. Uygulamayı sonlandır\n",
            "Seçiminiz (1/2/3): 3\n",
            "Uygulama sonlandırılıyor...\n"
          ]
        }
      ],
      "source": [
        "#Soru 4 bu bölümde kodlanmalıdır\n",
        "def adres_defterini_goster():\n",
        "    try:\n",
        "        with open('adres_defteri.txt', 'r', encoding='utf-8') as dosya:\n",
        "            print(\"\\nAdres Defteri:\")\n",
        "            print(dosya.read())\n",
        "    except FileNotFoundError:\n",
        "        print(\"\\nAdres defteri henüz oluşturulmadı.\")\n",
        "\n",
        "def yeni_giris_ekle():\n",
        "    ad_soyad = input(\"Ad-Soyad: \")\n",
        "    e_posta = input(\"e-Posta: \")\n",
        "\n",
        "    with open('adres_defteri.txt', 'a', encoding='utf-8') as dosya:\n",
        "        dosya.write(f\"{ad_soyad}, {e_posta}\\n\")\n",
        "    print(\"Yeni giriş başarıyla eklendi!\")\n",
        "\n",
        "def ana_menu():\n",
        "    while True:\n",
        "        print(\"\\nAdres Defteri Uygulaması\")\n",
        "        print(\"1. Adres defterindeki girişleri göster\")\n",
        "        print(\"2. Adres defterine yeni veri ekle\")\n",
        "        print(\"3. Uygulamayı sonlandır\")\n",
        "\n",
        "        secim = input(\"Seçiminiz (1/2/3): \")\n",
        "\n",
        "        if secim == '1':\n",
        "            adres_defterini_goster()\n",
        "        elif secim == '2':\n",
        "            yeni_giris_ekle()\n",
        "        elif secim == '3':\n",
        "            print(\"Uygulama sonlandırılıyor...\")\n",
        "            break\n",
        "        else:\n",
        "            print(\"Geçersiz seçim. Lütfen 1, 2 veya 3 giriniz.\")\n",
        "\n",
        "# Ana menüyü başlatıyoruz\n",
        "ana_menu()\n",
        "\n",
        "\n"
      ]
    }
  ]
}