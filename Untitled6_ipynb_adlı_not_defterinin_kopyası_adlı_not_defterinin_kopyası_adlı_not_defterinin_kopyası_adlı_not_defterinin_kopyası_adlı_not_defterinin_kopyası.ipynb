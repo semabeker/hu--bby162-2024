{
  "nbformat": 4,
  "nbformat_minor": 0,
  "metadata": {
    "colab": {
      "provenance": [],
      "authorship_tag": "ABX9TyMSzbPzjHfdue6AG3c4BGVr",
      "include_colab_link": true
    },
    "kernelspec": {
      "name": "python3",
      "display_name": "Python 3"
    },
    "language_info": {
      "name": "python"
    }
  },
  "cells": [
    {
      "cell_type": "markdown",
      "metadata": {
        "id": "view-in-github",
        "colab_type": "text"
      },
      "source": [
        "<a href=\"https://colab.research.google.com/github/semabeker/hu--bby162-2024/blob/main/Untitled6_ipynb_adl%C4%B1_not_defterinin_kopyas%C4%B1_adl%C4%B1_not_defterinin_kopyas%C4%B1_adl%C4%B1_not_defterinin_kopyas%C4%B1_adl%C4%B1_not_defterinin_kopyas%C4%B1_adl%C4%B1_not_defterinin_kopyas%C4%B1.ipynb\" target=\"_parent\"><img src=\"https://colab.research.google.com/assets/colab-badge.svg\" alt=\"Open In Colab\"/></a>"
      ]
    },
    {
      "cell_type": "code",
      "execution_count": null,
      "metadata": {
        "colab": {
          "base_uri": "https://localhost:8080/"
        },
        "id": "OkyOfBP5YvH-",
        "outputId": "592315a8-b6a9-4093-bb34-72dc79595ce0"
      },
      "outputs": [
        {
          "output_type": "stream",
          "name": "stdout",
          "text": [
            "Açık Veri\n"
          ]
        }
      ],
      "source": [
        "acıkVeri = [\"Açık Bilim\", \"Açık Erişim\", \"Açık Veri\", \"Açık Eğitim\", \"Açık Kaynak\"]\n",
        "print(acıkVeri[2])\n"
      ]
    },
    {
      "cell_type": "code",
      "source": [
        "acıkListe = [\"Açık Bilim\", \"Açık Erişim\", \"Açık Veri\", \"Açık Eğitim\", \"Açık Kaynak\"]\n",
        "print(acıkListe[3], acıkListe[4])\n"
      ],
      "metadata": {
        "colab": {
          "base_uri": "https://localhost:8080/"
        },
        "id": "-H6YxvpZv2rh",
        "outputId": "3785a9f5-ccca-4ab1-b76a-fc6fb3cdf4b9"
      },
      "execution_count": null,
      "outputs": [
        {
          "output_type": "stream",
          "name": "stdout",
          "text": [
            "Açık Eğitim Açık Kaynak\n"
          ]
        }
      ]
    },
    {
      "cell_type": "code",
      "source": [
        "bilgiBilim = [\"Bilgi\", \"Bilgi Kuramı\", \"Epistemoloji\"]\n",
        "print(bilgiBilim)\n",
        "\n",
        "bilgiBilim.append(\"Bilgi Felsefesi\")\n",
        "bilgiBilim.append(\"Kütüphane Bilgisi\")\n",
        "print(bilgiBilim)\n",
        "\n",
        "bilgiBilim[2] = \"Kütüphane\"\n",
        "print(bilgiBilim)"
      ],
      "metadata": {
        "colab": {
          "base_uri": "https://localhost:8080/"
        },
        "id": "m3R9r4RQ0ydl",
        "outputId": "f3df0bc3-7a90-4684-c230-be10ff2cf4cf"
      },
      "execution_count": null,
      "outputs": [
        {
          "output_type": "stream",
          "name": "stdout",
          "text": [
            "['Bilgi', 'Bilgi Kuramı', 'Epistemoloji']\n",
            "['Bilgi', 'Bilgi Kuramı', 'Epistemoloji', 'Bilgi Felsefesi', 'Kütüphane Bilgisi']\n",
            "['Bilgi', 'Bilgi Kuramı', 'Kütüphane', 'Bilgi Felsefesi', 'Kütüphane Bilgisi']\n"
          ]
        }
      ]
    },
    {
      "cell_type": "code",
      "source": [
        "bilgiBilim = [\"Bilgi\", \"Bilgi Kuramı\", \"Epistemoloji\"]\n",
        "print(bilgiBilim)\n",
        "\n",
        "bilgiBilim[:1]\n",
        "print(bilgiBilim)\n",
        "\n",
        "bilgiBilim[:] = []\n",
        "print(bilgiBilim)"
      ],
      "metadata": {
        "colab": {
          "base_uri": "https://localhost:8080/"
        },
        "id": "SiRzjd-6R-RO",
        "outputId": "595042c2-8bb2-4063-d8f4-5411c2e0c008"
      },
      "execution_count": null,
      "outputs": [
        {
          "output_type": "stream",
          "name": "stdout",
          "text": [
            "['Bilgi', 'Bilgi Kuramı', 'Epistemoloji']\n",
            "['Bilgi', 'Bilgi Kuramı', 'Epistemoloji']\n",
            "[]\n"
          ]
        }
      ]
    },
    {
      "cell_type": "code",
      "source": [
        "konuBasliklari = (\n",
        "    \"Tarım ve Tarım Bilimleri\",\n",
        "    \"Mimarlık ve Şehir Planlama\",\n",
        "    \"Sanat ve Sanat Tarihi\",\n",
        "    \"İşletme ve Ekonomi\",\n",
        "    \"Eğitim ve Eğitim Bilimleri\",\n",
        "    \"Mühendislik ve Teknoloji\",\n",
        "    \"Tarih ve Arkeoloji\",\n",
        "    \"Genel ve Uygulamalı Bilimler\",\n",
        "    \"Dilbilim ve Filoloji\",\n",
        "    \"Tıp ve Sağlık Bilimleri\",\n",
        "    \"Felsefe ve Din\",\n",
        "    \"Hukuk ve Adalet\",\n",
        "    \"Sosyal Bilimler\",\n",
        "    \"Coğrafya ve Coğrafya Bilimleri\",\n",
        "    \"Edebiyat ve Edebiyat Bilimi\",\n",
        "    \"Askeri Bilimler\",\n",
        "    \"Fiziksel ve Doğal Bilimler\",\n",
        "    \"Psikoloji ve Psikiyatri\",\n",
        "    \"Spor ve Rekreasyon\",\n",
        "    \"Medya ve İletişim\"\n",
        ")\n",
        "print(konuBasliklari)\n",
        "\n",
        "print(\"Tarım ve Tarım Bilimleri\",)"
      ],
      "metadata": {
        "colab": {
          "base_uri": "https://localhost:8080/"
        },
        "id": "HimhdthFWpn-",
        "outputId": "1c105375-206f-4b56-a661-5669759c0b92"
      },
      "execution_count": null,
      "outputs": [
        {
          "output_type": "stream",
          "name": "stdout",
          "text": [
            "('Tarım ve Tarım Bilimleri', 'Mimarlık ve Şehir Planlama', 'Sanat ve Sanat Tarihi', 'İşletme ve Ekonomi', 'Eğitim ve Eğitim Bilimleri', 'Mühendislik ve Teknoloji', 'Tarih ve Arkeoloji', 'Genel ve Uygulamalı Bilimler', 'Dilbilim ve Filoloji', 'Tıp ve Sağlık Bilimleri', 'Felsefe ve Din', 'Hukuk ve Adalet', 'Sosyal Bilimler', 'Coğrafya ve Coğrafya Bilimleri', 'Edebiyat ve Edebiyat Bilimi', 'Askeri Bilimler', 'Fiziksel ve Doğal Bilimler', 'Psikoloji ve Psikiyatri', 'Spor ve Rekreasyon', 'Medya ve İletişim')\n",
            "Tarım ve Tarım Bilimleri\n"
          ]
        }
      ]
    },
    {
      "cell_type": "code",
      "source": [
        "sozluk = {\"Papatya\": \"beyaz\", \"Gül\": \"Kırmızı\", \"Karanfil\": \"Ölüm\", \"Lavanta\": \"Mor\", \"Orkide\": \"Pahalı\"}\n",
        "print(sozluk)\n",
        "\n",
        "sozluk[\"Lale\"] = \"Beyaz\"\n",
        "print(sozluk)\n",
        "\n",
        "del sozluk [\"Lale\"]\n",
        "print(sozluk)"
      ],
      "metadata": {
        "colab": {
          "base_uri": "https://localhost:8080/"
        },
        "id": "HZYPu8bzaDK3",
        "outputId": "71895610-e4dd-4024-a468-8a83ae934d5c"
      },
      "execution_count": null,
      "outputs": [
        {
          "output_type": "stream",
          "name": "stdout",
          "text": [
            "{'Papatya': 'beyaz', 'Gül': 'Kırmızı', 'Karanfil': 'Ölüm', 'Lavanta': 'Mor', 'Orkide': 'Pahalı'}\n",
            "{'Papatya': 'beyaz', 'Gül': 'Kırmızı', 'Karanfil': 'Ölüm', 'Lavanta': 'Mor', 'Orkide': 'Pahalı', 'Lale': 'Beyaz'}\n",
            "{'Papatya': 'beyaz', 'Gül': 'Kırmızı', 'Karanfil': 'Ölüm', 'Lavanta': 'Mor', 'Orkide': 'Pahalı'}\n"
          ]
        }
      ]
    },
    {
      "cell_type": "code",
      "source": [
        "yeniSozluk = {\"Köpek\": \"Memeli\", \"Kuş\": \"Kuş\", \"Kaplumbağa\": \"Sürüngen\"}\n",
        "print(yeniSozluk)\n",
        "\n",
        "print(yeniSozluk.values())\n",
        "print(yeniSozluk.keys())"
      ],
      "metadata": {
        "colab": {
          "base_uri": "https://localhost:8080/"
        },
        "id": "IhNlIKpZfSM-",
        "outputId": "c4731c7c-6100-4b43-ed4b-b1ecf1e8ab8a"
      },
      "execution_count": null,
      "outputs": [
        {
          "output_type": "stream",
          "name": "stdout",
          "text": [
            "{'Köpek': 'Memeli', 'Kuş': 'Kuş', 'Kaplumbağa': 'Sürüngen'}\n",
            "dict_values(['Memeli', 'Kuş', 'Sürüngen'])\n",
            "dict_keys(['Köpek', 'Kuş', 'Kaplumbağa'])\n"
          ]
        }
      ]
    },
    {
      "cell_type": "code",
      "source": [
        "yeniListe = {\"Büyük Hun İmparatorluğu\": \"Teoman\", \"Göktürk Kağanlığı\": \"Bumin Kağan\", \"Avar Kağanlığı\": \"Bayan Kağan\", \"Uygur Kağanlığı\": \"Bilge Kül Kağan\", \"Karahanlılar\": \"Saltuk Buğra Han\", \"Gazne Devleti\": \"Alp Tekin\", \"Büyük Selçuklu Devleti\": \"Selçuk Bey\", \"Harzemşahlar\": \"Muhammed Harzemşah\", \"Altın Ordu Devleti\": \"Batur Han\", \"Timur İmparatorluğu\": \"Timur Gürkan\"}\n",
        "print(yeniListe)\n",
        "\n",
        "yeniListe[\"Osmanlı İmparatorluğu\"] = \"Osman Bey\"\n",
        "print(yeniListe)\n",
        "\n",
        "del yeniListe [\"Karahanlılar\"]\n",
        "print(yeniListe)\n",
        "\n",
        "print(yeniListe)\n",
        "guncellenecek = int(input(\"3: \"))\n",
        "print(\"Uygur Kağanlığı: \" + yeniListe[guncellenecek3])\n",
        "guncelIcerik = input(\"Kutluğ Bilge Kül Kağan: \")\n",
        "yeniListe[guncellenecek3] = guncelIcerik\n",
        "print(\"Güncelleme tamamlandı\")\n",
        "print(yeniListe)\n",
        "\n",
        "yeniListe = [\"Teoman\", \"Karahanlılar\"]\n",
        "print(\"Teoman\" in yeniListe.keys)\n",
        "\n",
        "\n",
        "\n",
        "\n",
        "\n"
      ],
      "metadata": {
        "id": "akUGEtjVlYlF",
        "colab": {
          "base_uri": "https://localhost:8080/"
        },
        "outputId": "21db3244-9f6d-4f96-cdb8-8f9c6f8451fb"
      },
      "execution_count": null,
      "outputs": [
        {
          "output_type": "stream",
          "name": "stdout",
          "text": [
            "{'Büyük Hun İmparatorluğu': 'Teoman', 'Göktürk Kağanlığı': 'Bumin Kağan', 'Avar Kağanlığı': 'Bayan Kağan', 'Uygur Kağanlığı': 'Bilge Kül Kağan', 'Karahanlılar': 'Saltuk Buğra Han', 'Gazne Devleti': 'Alp Tekin', 'Büyük Selçuklu Devleti': 'Selçuk Bey', 'Harzemşahlar': 'Muhammed Harzemşah', 'Altın Ordu Devleti': 'Batur Han', 'Timur İmparatorluğu': 'Timur Gürkan'}\n",
            "{'Büyük Hun İmparatorluğu': 'Teoman', 'Göktürk Kağanlığı': 'Bumin Kağan', 'Avar Kağanlığı': 'Bayan Kağan', 'Uygur Kağanlığı': 'Bilge Kül Kağan', 'Karahanlılar': 'Saltuk Buğra Han', 'Gazne Devleti': 'Alp Tekin', 'Büyük Selçuklu Devleti': 'Selçuk Bey', 'Harzemşahlar': 'Muhammed Harzemşah', 'Altın Ordu Devleti': 'Batur Han', 'Timur İmparatorluğu': 'Timur Gürkan', 'Osmanlı İmparatorluğu': 'Osman Bey'}\n",
            "{'Büyük Hun İmparatorluğu': 'Teoman', 'Göktürk Kağanlığı': 'Bumin Kağan', 'Avar Kağanlığı': 'Bayan Kağan', 'Uygur Kağanlığı': 'Bilge Kül Kağan', 'Gazne Devleti': 'Alp Tekin', 'Büyük Selçuklu Devleti': 'Selçuk Bey', 'Harzemşahlar': 'Muhammed Harzemşah', 'Altın Ordu Devleti': 'Batur Han', 'Timur İmparatorluğu': 'Timur Gürkan', 'Osmanlı İmparatorluğu': 'Osman Bey'}\n",
            "{'Büyük Hun İmparatorluğu': 'Teoman', 'Göktürk Kağanlığı': 'Bumin Kağan', 'Avar Kağanlığı': 'Bayan Kağan', 'Uygur Kağanlığı': 'Bilge Kül Kağan', 'Gazne Devleti': 'Alp Tekin', 'Büyük Selçuklu Devleti': 'Selçuk Bey', 'Harzemşahlar': 'Muhammed Harzemşah', 'Altın Ordu Devleti': 'Batur Han', 'Timur İmparatorluğu': 'Timur Gürkan', 'Osmanlı İmparatorluğu': 'Osman Bey'}\n"
          ]
        }
      ]
    }
  ]
}