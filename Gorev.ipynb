{
  "nbformat": 4,
  "nbformat_minor": 0,
  "metadata": {
    "colab": {
      "provenance": [],
      "authorship_tag": "ABX9TyOro5IPsVIJ3/410R25MyRl",
      "include_colab_link": true
    },
    "kernelspec": {
      "name": "python3",
      "display_name": "Python 3"
    },
    "language_info": {
      "name": "python"
    }
  },
  "cells": [
    {
      "cell_type": "markdown",
      "metadata": {
        "id": "view-in-github",
        "colab_type": "text"
      },
      "source": [
        "<a href=\"https://colab.research.google.com/github/semabeker/hu--bby162-2024/blob/main/Gorev.ipynb\" target=\"_parent\"><img src=\"https://colab.research.google.com/assets/colab-badge.svg\" alt=\"Open In Colab\"/></a>"
      ]
    },
    {
      "cell_type": "code",
      "source": [
        "adSoyad = \"Semanur Beker\"\n",
        "print(\"Adı Soyadı: \" + adSoyad)"
      ],
      "metadata": {
        "colab": {
          "base_uri": "https://localhost:8080/"
        },
        "id": "jYLi9AFmxJQF",
        "outputId": "300a0b56-d8aa-4734-ba73-6e1b11ee4002"
      },
      "execution_count": null,
      "outputs": [
        {
          "output_type": "stream",
          "name": "stdout",
          "text": [
            "Adı Soyadı: Semanur Beker\n"
          ]
        }
      ]
    },
    {
      "cell_type": "code",
      "source": [
        "eposta = \"semanurbeker4\"\n",
        "print(\"Eposta:\" + eposta)"
      ],
      "metadata": {
        "colab": {
          "base_uri": "https://localhost:8080/"
        },
        "id": "L1SVF295xopf",
        "outputId": "b6211018-ad89-4d25-a29c-cbdcf57b9b0b"
      },
      "execution_count": null,
      "outputs": [
        {
          "output_type": "stream",
          "name": "stdout",
          "text": [
            "Eposta:semanurbeker4\n"
          ]
        }
      ]
    },
    {
      "cell_type": "code",
      "source": [
        "kafeadı = \"eagles\"\n",
        "print(kafeadi)"
      ],
      "metadata": {
        "colab": {
          "base_uri": "https://localhost:8080/",
          "height": 158
        },
        "id": "Tj2C0IzY0sUy",
        "outputId": "59a09a2c-a517-4243-fd84-c4a71bd0b497"
      },
      "execution_count": null,
      "outputs": [
        {
          "output_type": "error",
          "ename": "NameError",
          "evalue": "name 'kafeadi' is not defined",
          "traceback": [
            "\u001b[0;31m---------------------------------------------------------------------------\u001b[0m",
            "\u001b[0;31mNameError\u001b[0m                                 Traceback (most recent call last)",
            "\u001b[0;32m<ipython-input-14-df10c950bcc3>\u001b[0m in \u001b[0;36m<cell line: 2>\u001b[0;34m()\u001b[0m\n\u001b[1;32m      1\u001b[0m \u001b[0mkafeadı\u001b[0m \u001b[0;34m=\u001b[0m \u001b[0;34m\"eagles\"\u001b[0m\u001b[0;34m\u001b[0m\u001b[0;34m\u001b[0m\u001b[0m\n\u001b[0;32m----> 2\u001b[0;31m \u001b[0mprint\u001b[0m\u001b[0;34m(\u001b[0m\u001b[0mkafeadi\u001b[0m\u001b[0;34m)\u001b[0m\u001b[0;34m\u001b[0m\u001b[0;34m\u001b[0m\u001b[0m\n\u001b[0m",
            "\u001b[0;31mNameError\u001b[0m: name 'kafeadi' is not defined"
          ]
        }
      ]
    },
    {
      "cell_type": "code",
      "source": [
        "tamSayi = 3\n",
        "print(type(tamSayi))"
      ],
      "metadata": {
        "colab": {
          "base_uri": "https://localhost:8080/"
        },
        "id": "VN5ZxWxk2u8D",
        "outputId": "1ccbcafe-6f72-4770-eb85-224188501397"
      },
      "execution_count": null,
      "outputs": [
        {
          "output_type": "stream",
          "name": "stdout",
          "text": [
            "<class 'int'>\n"
          ]
        }
      ]
    },
    {
      "cell_type": "code",
      "source": [
        "ondalikSayi = 3.2\n",
        "print(type(ondalikSayi))"
      ],
      "metadata": {
        "colab": {
          "base_uri": "https://localhost:8080/"
        },
        "id": "id6QtaAQ3pAu",
        "outputId": "298bba69-b880-48b3-b1fc-3828850c9c12"
      },
      "execution_count": null,
      "outputs": [
        {
          "output_type": "stream",
          "name": "stdout",
          "text": [
            "<class 'float'>\n"
          ]
        }
      ]
    },
    {
      "cell_type": "code",
      "source": [
        "sayi = 3.14\n",
        "print(type(sayi))\n",
        "print(sayi)"
      ],
      "metadata": {
        "colab": {
          "base_uri": "https://localhost:8080/"
        },
        "id": "tupROlsp4NtQ",
        "outputId": "e9e2b4cb-f625-4735-951c-5d04b8ae967f"
      },
      "execution_count": null,
      "outputs": [
        {
          "output_type": "stream",
          "name": "stdout",
          "text": [
            "<class 'float'>\n",
            "3.14\n"
          ]
        }
      ]
    },
    {
      "cell_type": "code",
      "source": [
        "sayi = int(sayi)\n",
        "print(type(sayi))\n",
        "print(sayi)"
      ],
      "metadata": {
        "colab": {
          "base_uri": "https://localhost:8080/"
        },
        "id": "o2PrvwX24j0c",
        "outputId": "56e4e4a2-0a49-4e58-fd3c-b38ec700ba8e"
      },
      "execution_count": null,
      "outputs": [
        {
          "output_type": "stream",
          "name": "stdout",
          "text": [
            "<class 'int'>\n",
            "3\n"
          ]
        }
      ]
    },
    {
      "cell_type": "code",
      "source": [
        "sayi = float(sayi)\n",
        "print(type(sayi))\n",
        "print(sayi)"
      ],
      "metadata": {
        "colab": {
          "base_uri": "https://localhost:8080/"
        },
        "id": "bG83SrnK4y5u",
        "outputId": "8426ec24-1b7f-46b1-886d-5b3934824a81"
      },
      "execution_count": null,
      "outputs": [
        {
          "output_type": "stream",
          "name": "stdout",
          "text": [
            "<class 'float'>\n",
            "3.0\n"
          ]
        }
      ]
    },
    {
      "cell_type": "code",
      "source": [
        "sayi = str(sayi)\n",
        "print(type(sayi))\n",
        "print(sayi)"
      ],
      "metadata": {
        "colab": {
          "base_uri": "https://localhost:8080/"
        },
        "id": "SoySBFdb4-PT",
        "outputId": "f4944894-b357-4173-a4f3-250aedc2e944"
      },
      "execution_count": null,
      "outputs": [
        {
          "output_type": "stream",
          "name": "stdout",
          "text": [
            "<class 'str'>\n",
            "3.0\n"
          ]
        }
      ]
    },
    {
      "cell_type": "code",
      "source": [
        "urunAdi = \"bisiklet\"\n",
        "urunBedeliAvro = 850\n",
        "pariteAvroTL = 7\n",
        "urunAdet = 3\n",
        "pesinAdetIndirimTL = 500\n",
        "urunTLFiyati = urunBedeliAvro * pariteAvroTL\n",
        "urunToplamFiyati = urunTLFiyati * urunAdet\n",
        "indirim = pesinAdetIndirimTL * urunAdet\n",
        "odenecekTutar = urunToplamFiyati - indirim\n",
        "print(odenecekTutar)\n"
      ],
      "metadata": {
        "colab": {
          "base_uri": "https://localhost:8080/"
        },
        "id": "YTVnQvYz8E0-",
        "outputId": "a60500d3-5c50-4285-ddb2-2c19706c1ef7"
      },
      "execution_count": null,
      "outputs": [
        {
          "output_type": "stream",
          "name": "stdout",
          "text": [
            "16350\n"
          ]
        }
      ]
    },
    {
      "cell_type": "code",
      "source": [
        "sayi = 55\n",
        "sayi +=20\n",
        "print(sayi)\n",
        "\n",
        "sayi -=10\n",
        "print(\"sayi = \" + str(sayi))"
      ],
      "metadata": {
        "colab": {
          "base_uri": "https://localhost:8080/"
        },
        "id": "LJSD7801B253",
        "outputId": "231e25ca-89a7-4896-dffa-927884633897"
      },
      "execution_count": null,
      "outputs": [
        {
          "output_type": "stream",
          "name": "stdout",
          "text": [
            "75\n",
            "sayi = 65\n"
          ]
        }
      ]
    },
    {
      "cell_type": "code",
      "source": [
        "sifre = \"askolog321\"\n",
        "sifreTekrar = \"askolog123\"\n",
        "esitMi = (sifre == sifreTekrar)\n",
        "print(esitMi)"
      ],
      "metadata": {
        "colab": {
          "base_uri": "https://localhost:8080/"
        },
        "id": "gP4n5ckTCt9O",
        "outputId": "003b1c57-707f-4f73-f0d5-dd2065941738"
      },
      "execution_count": null,
      "outputs": [
        {
          "output_type": "stream",
          "name": "stdout",
          "text": [
            "False\n"
          ]
        }
      ]
    },
    {
      "cell_type": "code",
      "source": [
        "urunAdi = \"Bisiklet\"\n",
        "urunBedeliAvro = 850\n",
        "kurAvro = 7\n",
        "urunAdet = 3\n",
        "pesinAdetIndirimTL = 500\n",
        "butce = 15000\n",
        "urunTLFiyati = urunBedeliAvro * kurAvro\n",
        "urunToplamFiyati = urunTLFiyati * urunAdet\n",
        "indirim = pesinAdetIndirimTL * urunAdet\n",
        "odenecekTutar = urunToplamFiyati - indirim\n",
        "print(butce>odenecekTutar)"
      ],
      "metadata": {
        "colab": {
          "base_uri": "https://localhost:8080/"
        },
        "id": "7fhvYwkaFGB4",
        "outputId": "7bca5157-af39-450f-bb3b-44b60550daa8"
      },
      "execution_count": null,
      "outputs": [
        {
          "output_type": "stream",
          "name": "stdout",
          "text": [
            "False\n"
          ]
        }
      ]
    }
  ]
}