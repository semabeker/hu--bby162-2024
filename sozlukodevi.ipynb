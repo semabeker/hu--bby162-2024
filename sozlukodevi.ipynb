{
  "cells": [
    {
      "cell_type": "markdown",
      "metadata": {
        "id": "view-in-github",
        "colab_type": "text"
      },
      "source": [
        "<a href=\"https://colab.research.google.com/github/semabeker/hu--bby162-2024/blob/main/sozlukodevi.ipynb\" target=\"_parent\"><img src=\"https://colab.research.google.com/assets/colab-badge.svg\" alt=\"Open In Colab\"/></a>"
      ]
    },
    {
      "cell_type": "code",
      "execution_count": null,
      "metadata": {
        "colab": {
          "base_uri": "https://localhost:8080/"
        },
        "id": "uuBHtmSaVkpc",
        "outputId": "1f8f0415-2723-4295-ecb8-f7d4285e25d5"
      },
      "outputs": [
        {
          "name": "stdout",
          "output_type": "stream",
          "text": [
            "{'Büyük Hun İmparatorluğu': 'Teoman', 'Göktürk Kağanlığı': 'Bumin Kağan', 'Avar Kağanlığı': 'Bayan Kağan', 'Uygur Kağanlığı': 'Bilge Kül Kağan', 'Karahanlılar': 'Saltuk Buğra Han', 'Gazne Devleti': 'Alp Tekin', 'Büyük Selçuklu Devleti': 'Selçuk Bey', 'Harzemşahlar': 'Muhammed Harzemşah', 'Altın Ordu Devleti': 'Batur Han', 'Timur İmparatorluğu': 'Timur Gürkan'}\n"
          ]
        }
      ],
      "source": [
        "yeniListe = {\"Büyük Hun İmparatorluğu\": \"Teoman\", \"Göktürk Kağanlığı\": \"Bumin Kağan\", \"Avar Kağanlığı\": \"Bayan Kağan\", \"Uygur Kağanlığı\": \"Bilge Kül Kağan\", \"Karahanlılar\": \"Saltuk Buğra Han\", \"Gazne Devleti\": \"Alp Tekin\", \"Büyük Selçuklu Devleti\": \"Selçuk Bey\", \"Harzemşahlar\": \"Muhammed Harzemşah\", \"Altın Ordu Devleti\": \"Batur Han\", \"Timur İmparatorluğu\": \"Timur Gürkan\"}\n",
        "print(yeniListe)\n"
      ]
    },
    {
      "cell_type": "code",
      "execution_count": null,
      "metadata": {
        "colab": {
          "base_uri": "https://localhost:8080/"
        },
        "id": "ygafuHdjVzzc",
        "outputId": "011fdef1-8765-4904-df35-b92b2f235fae"
      },
      "outputs": [
        {
          "name": "stdout",
          "output_type": "stream",
          "text": [
            "{'Büyük Hun İmparatorluğu': 'Teoman', 'Göktürk Kağanlığı': 'Bumin Kağan', 'Avar Kağanlığı': 'Bayan Kağan', 'Uygur Kağanlığı': 'Bilge Kül Kağan', 'Karahanlılar': 'Saltuk Buğra Han', 'Gazne Devleti': 'Alp Tekin', 'Büyük Selçuklu Devleti': 'Selçuk Bey', 'Harzemşahlar': 'Muhammed Harzemşah', 'Altın Ordu Devleti': 'Batur Han', 'Timur İmparatorluğu': 'Timur Gürkan', 'Osmanlı İmparatorluğu': 'Osman Bey'}\n"
          ]
        }
      ],
      "source": [
        "yeniListe[\"Osmanlı İmparatorluğu\"] = \"Osman Bey\"\n",
        "print(yeniListe)\n"
      ]
    },
    {
      "cell_type": "code",
      "execution_count": null,
      "metadata": {
        "colab": {
          "base_uri": "https://localhost:8080/"
        },
        "id": "4vH11crgV5mk",
        "outputId": "75d051a6-8d5f-47c0-a14a-44f3bdad3adc"
      },
      "outputs": [
        {
          "name": "stdout",
          "output_type": "stream",
          "text": [
            "{'Büyük Hun İmparatorluğu': 'Teoman', 'Göktürk Kağanlığı': 'Bumin Kağan', 'Avar Kağanlığı': 'Bayan Kağan', 'Uygur Kağanlığı': 'Bilge Kül Kağan', 'Gazne Devleti': 'Alp Tekin', 'Büyük Selçuklu Devleti': 'Selçuk Bey', 'Harzemşahlar': 'Muhammed Harzemşah', 'Altın Ordu Devleti': 'Batur Han', 'Timur İmparatorluğu': 'Timur Gürkan', 'Osmanlı İmparatorluğu': 'Osman Bey'}\n"
          ]
        }
      ],
      "source": [
        "del yeniListe [\"Karahanlılar\"]\n",
        "print(yeniListe)\n",
        "\n"
      ]
    },
    {
      "cell_type": "code",
      "execution_count": null,
      "metadata": {
        "colab": {
          "background_save": true,
          "base_uri": "https://localhost:8080/"
        },
        "id": "X8NBKBFJdm2X",
        "outputId": "bc487b59-ef7d-4b1d-fa3f-330f2c62490c"
      },
      "outputs": [
        {
          "name": "stdout",
          "output_type": "stream",
          "text": [
            "['Teoman', 'Karahanlılar']\n"
          ]
        }
      ],
      "source": [
        "print(yeniListe)\n",
        "guncellenecek = int(input(\"3: \"))\n",
        "print(\"Uygur Kağanlığı: \" + yeniListe[guncellenecek3])\n",
        "guncelIcerik = input(\"Kutluğ Bilge Kül Kağan: \")\n",
        "yeniListe[guncellenecek3] = guncelIcerik\n",
        "print(\"Güncelleme tamamlandı\")\n",
        "print(yeniListe)\n",
        "\n"
      ]
    },
    {
      "cell_type": "code",
      "execution_count": null,
      "metadata": {
        "id": "x5WrIdLddo62"
      },
      "outputs": [],
      "source": [
        "yeniListe = [\"Teoman\", \"Karahanlılar\"]\n",
        "print(\"Teoman\" in yeniListe.keys)"
      ]
    }
  ],
  "metadata": {
    "colab": {
      "provenance": [],
      "authorship_tag": "ABX9TyMSq/25VKRCuttXBYwGB0LM",
      "include_colab_link": true
    },
    "kernelspec": {
      "display_name": "Python 3",
      "name": "python3"
    },
    "language_info": {
      "name": "python"
    }
  },
  "nbformat": 4,
  "nbformat_minor": 0
}