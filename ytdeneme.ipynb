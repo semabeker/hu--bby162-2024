{
  "nbformat": 4,
  "nbformat_minor": 0,
  "metadata": {
    "colab": {
      "provenance": [],
      "authorship_tag": "ABX9TyOvsXfUFRp8pD80B1Y1dQZ9",
      "include_colab_link": true
    },
    "kernelspec": {
      "name": "python3",
      "display_name": "Python 3"
    },
    "language_info": {
      "name": "python"
    }
  },
  "cells": [
    {
      "cell_type": "markdown",
      "metadata": {
        "id": "view-in-github",
        "colab_type": "text"
      },
      "source": [
        "<a href=\"https://colab.research.google.com/github/semabeker/hu--bby162-2024/blob/main/ytdeneme.ipynb\" target=\"_parent\"><img src=\"https://colab.research.google.com/assets/colab-badge.svg\" alt=\"Open In Colab\"/></a>"
      ]
    },
    {
      "cell_type": "code",
      "execution_count": null,
      "metadata": {
        "id": "vybiPQ3n2mjH"
      },
      "outputs": [],
      "source": []
    },
    {
      "source": [
        "import random\n",
        "\n",
        "def yazı_tura():\n",
        "  # Generate a random number between 0 and 1\n",
        "  random_number = random.randint(0, 1)\n",
        "\n",
        "  # If the number is 0, return \"Yazı\", otherwise return \"Tura\"\n",
        "  if random_number == 0:\n",
        "    return \"Yazı\"\n",
        "  else:\n",
        "    return \"Tura\"\n",
        "\n",
        "# Call the yazı_tura function and print the result\n",
        "print(yazı_tura())"
      ],
      "cell_type": "code",
      "metadata": {
        "colab": {
          "base_uri": "https://localhost:8080/"
        },
        "id": "0KjYOYZ223qu",
        "outputId": "25e92feb-331d-46cd-8b3a-01e6c45347a1"
      },
      "execution_count": 3,
      "outputs": [
        {
          "output_type": "stream",
          "name": "stdout",
          "text": [
            "Yazı\n"
          ]
        }
      ]
    }
  ]
}