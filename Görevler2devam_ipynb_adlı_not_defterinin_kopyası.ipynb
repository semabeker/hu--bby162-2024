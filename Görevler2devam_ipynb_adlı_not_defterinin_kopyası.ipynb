{
  "nbformat": 4,
  "nbformat_minor": 0,
  "metadata": {
    "colab": {
      "provenance": [],
      "authorship_tag": "ABX9TyOjeTKN5AsUTeBe+sY56Zd4",
      "include_colab_link": true
    },
    "kernelspec": {
      "name": "python3",
      "display_name": "Python 3"
    },
    "language_info": {
      "name": "python"
    }
  },
  "cells": [
    {
      "cell_type": "markdown",
      "metadata": {
        "id": "view-in-github",
        "colab_type": "text"
      },
      "source": [
        "<a href=\"https://colab.research.google.com/github/semabeker/hu--bby162-2024/blob/main/G%C3%B6revler2devam_ipynb_adl%C4%B1_not_defterinin_kopyas%C4%B1.ipynb\" target=\"_parent\"><img src=\"https://colab.research.google.com/assets/colab-badge.svg\" alt=\"Open In Colab\"/></a>"
      ]
    },
    {
      "cell_type": "code",
      "execution_count": null,
      "metadata": {
        "colab": {
          "base_uri": "https://localhost:8080/"
        },
        "id": "7z6uNMjA3QLH",
        "outputId": "3f8b67d6-57f2-4839-c8cd-b3b660b65266"
      },
      "outputs": [
        {
          "output_type": "stream",
          "name": "stdout",
          "text": [
            "Hadi!Hadi!Hadi!Hadi!Hadi!Hadi!Hadi!Hadi!Hadi!Hadi!Hadi!Hadi!Hadi!Hadi!Hadi!Hadi!Hadi!\n"
          ]
        }
      ],
      "source": [
        "metin = \"Hadi!\"\n",
        "metniCarp = metin * 17\n",
        "print(metniCarp)"
      ]
    },
    {
      "cell_type": "code",
      "source": [
        "metin = \"Python Programlama Dili\"\n",
        "print(\"'p' harfini yakala: \" + metin[7])"
      ],
      "metadata": {
        "colab": {
          "base_uri": "https://localhost:8080/"
        },
        "id": "gx49gbn8LVk2",
        "outputId": "5eabf350-8ba7-4f12-9921-956f1794b05e"
      },
      "execution_count": null,
      "outputs": [
        {
          "output_type": "stream",
          "name": "stdout",
          "text": [
            "'p' harfini yakala: P\n"
          ]
        }
      ]
    },
    {
      "cell_type": "code",
      "source": [
        "metin = \"Python Programlama Dili\"\n",
        "iHarfi = metin[-1]\n",
        "print(iHarfi)"
      ],
      "metadata": {
        "colab": {
          "base_uri": "https://localhost:8080/"
        },
        "id": "27db6sr2MQPw",
        "outputId": "3368a25b-3416-4be3-8f70-31442724e667"
      },
      "execution_count": null,
      "outputs": [
        {
          "output_type": "stream",
          "name": "stdout",
          "text": [
            "i\n"
          ]
        }
      ]
    },
    {
      "cell_type": "code",
      "source": [
        "metin = \"Python Programlama Dili\"\n",
        "dilimle =metin[:6]\n",
        "print(dilimle)\n",
        "\n",
        "metin = \"Python Programlama Dili\"\n",
        "print(metin[7: + 18:])\n",
        "\n",
        "metin = \"Python Programlama Dili\"\n",
        "print(metin[19:])"
      ],
      "metadata": {
        "colab": {
          "base_uri": "https://localhost:8080/"
        },
        "id": "nCiPjz36M6k3",
        "outputId": "6930e249-920d-4852-ee8c-4dade9f68eb6"
      },
      "execution_count": null,
      "outputs": [
        {
          "output_type": "stream",
          "name": "stdout",
          "text": [
            "Python\n",
            "Programlama\n",
            "Dili\n"
          ]
        }
      ]
    },
    {
      "cell_type": "code",
      "source": [
        "metin = \"Python Programlama Dili\"\n",
        "print(\"Python\" in metin)"
      ],
      "metadata": {
        "colab": {
          "base_uri": "https://localhost:8080/"
        },
        "id": "kKGPa_RGP5GI",
        "outputId": "f6924ae5-cbee-438c-b36c-029c1138d3d2"
      },
      "execution_count": null,
      "outputs": [
        {
          "output_type": "stream",
          "name": "stdout",
          "text": [
            "True\n"
          ]
        }
      ]
    },
    {
      "cell_type": "code",
      "source": [
        "metin = \"Python programlama dili, dünyada eğitim amacıyla en çok kullanılan programla dillerinin başında gelir.\"\n",
        "print(len(metin))"
      ],
      "metadata": {
        "colab": {
          "base_uri": "https://localhost:8080/"
        },
        "id": "0KYqiAoCQlym",
        "outputId": "be324553-a386-4bfd-87e4-1f560b806856"
      },
      "execution_count": null,
      "outputs": [
        {
          "output_type": "stream",
          "name": "stdout",
          "text": [
            "102\n"
          ]
        }
      ]
    },
    {
      "cell_type": "code",
      "source": [
        "metin =  \"Python programlama dili, dünyada eğitim amacıyla en çok kullanılan programla dillerinin başında gelir.\"\n",
        "dilimleme = metin[:51]\n",
        "print(dilimleme)"
      ],
      "metadata": {
        "colab": {
          "base_uri": "https://localhost:8080/"
        },
        "id": "OAwY2NUPSF1U",
        "outputId": "e9dda687-0330-4ec0-e461-9faee86d522b"
      },
      "execution_count": null,
      "outputs": [
        {
          "output_type": "stream",
          "name": "stdout",
          "text": [
            "Python programlama dili, dünyada eğitim amacıyla en\n"
          ]
        }
      ]
    },
    {
      "cell_type": "code",
      "source": [
        "metin = 'Bilimsel çalışmalarda \"Python\" kullanımı Türkiye\\'de çok yaygınlaştı!'\n",
        "print(metin)"
      ],
      "metadata": {
        "colab": {
          "base_uri": "https://localhost:8080/"
        },
        "id": "IeSVIllCS95p",
        "outputId": "da06ee89-a369-4e97-b58f-3aaf28d6c4c7"
      },
      "execution_count": null,
      "outputs": [
        {
          "output_type": "stream",
          "name": "stdout",
          "text": [
            "Bilimsel çalışmalarda \"Python\" kullanımı Türkiye'de çok yaygınlaştı!\n"
          ]
        }
      ]
    },
    {
      "cell_type": "code",
      "source": [
        "metin = \"Makine ÖğrenmeSi\"\n",
        "metin2 = \"makine öğrenmesi\"\n",
        "print(metin.lower() == metin2)"
      ],
      "metadata": {
        "id": "UluaYXxeelNR",
        "outputId": "a7cb2107-4357-4d9b-cd6a-c9b74ed6ba39",
        "colab": {
          "base_uri": "https://localhost:8080/"
        }
      },
      "execution_count": null,
      "outputs": [
        {
          "output_type": "stream",
          "name": "stdout",
          "text": [
            "True\n"
          ]
        }
      ]
    },
    {
      "cell_type": "code",
      "source": [
        "ad = \"sema\"\n",
        "soyad = \"beker\"\n",
        "print(ad + \" \" + soyad)\n"
      ],
      "metadata": {
        "id": "Z7vNnhXOfkSF",
        "outputId": "c414e36f-a493-4351-9151-47f9d1ff4318",
        "colab": {
          "base_uri": "https://localhost:8080/"
        }
      },
      "execution_count": null,
      "outputs": [
        {
          "output_type": "stream",
          "name": "stdout",
          "text": [
            "sema beker\n"
          ]
        }
      ]
    },
    {
      "cell_type": "code",
      "source": [
        "ad = \"Orçun\"\n",
        "soyad = \"Madran\"\n",
        "ders = \"Programlama Dilleri\"\n",
        "print(\"Merhaba %s %s , bu dönemki dersiniz \\\"%s\\\" . Başarılar!\"%(ad,soyad,ders))"
      ],
      "metadata": {
        "id": "ULns0JauhX5j",
        "outputId": "80489328-4866-4939-9f16-dac1f208b7be",
        "colab": {
          "base_uri": "https://localhost:8080/"
        }
      },
      "execution_count": null,
      "outputs": [
        {
          "output_type": "stream",
          "name": "stdout",
          "text": [
            "Merhaba Orçun Madran , bu dönemki dersiniz \"Programlama Dilleri\" . Başarılar!\n"
          ]
        }
      ]
    }
  ]
}